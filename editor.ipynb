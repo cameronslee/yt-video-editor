{
 "cells": [
  {
   "cell_type": "markdown",
   "metadata": {},
   "source": [
    "Download video"
   ]
  },
  {
   "cell_type": "code",
   "execution_count": null,
   "metadata": {},
   "outputs": [],
   "source": [
    "VIDEO_URL = \"https://www.youtube.com/watch?v=JN3KPFbWCy8\"\n",
    "\n",
    "from pytube import YouTube\n",
    "\n",
    "yt = YouTube(VIDEO_URL)\n",
    "yt.streams.filter(progressive=True, file_extension='mp4').order_by('resolution').desc().first().download()\n"
   ]
  },
  {
   "cell_type": "markdown",
   "metadata": {},
   "source": [
    "Read in timestamp information (generated externally)"
   ]
  },
  {
   "cell_type": "code",
   "execution_count": 1,
   "metadata": {},
   "outputs": [
    {
     "data": {
      "text/html": [
       "<div>\n",
       "<style scoped>\n",
       "    .dataframe tbody tr th:only-of-type {\n",
       "        vertical-align: middle;\n",
       "    }\n",
       "\n",
       "    .dataframe tbody tr th {\n",
       "        vertical-align: top;\n",
       "    }\n",
       "\n",
       "    .dataframe thead th {\n",
       "        text-align: right;\n",
       "    }\n",
       "</style>\n",
       "<table border=\"1\" class=\"dataframe\">\n",
       "  <thead>\n",
       "    <tr style=\"text-align: right;\">\n",
       "      <th></th>\n",
       "      <th>text</th>\n",
       "      <th>start</th>\n",
       "      <th>end</th>\n",
       "      <th>entities</th>\n",
       "      <th>duration</th>\n",
       "      <th>top_three_entities</th>\n",
       "    </tr>\n",
       "  </thead>\n",
       "  <tbody>\n",
       "    <tr>\n",
       "      <th>0</th>\n",
       "      <td>Elon Musk his fourth time on this The</td>\n",
       "      <td>2.040</td>\n",
       "      <td>8.520</td>\n",
       "      <td>[('Elon Musk', 0, 9, 'PERSON'), ('fourth', 14,...</td>\n",
       "      <td>6.480</td>\n",
       "      <td>['Elon Musk', 'fourth']</td>\n",
       "    </tr>\n",
       "    <tr>\n",
       "      <th>1</th>\n",
       "      <td>Lex Friedman about the Roman Empire as one Rom...</td>\n",
       "      <td>5.440</td>\n",
       "      <td>193.280</td>\n",
       "      <td>[('Lex Friedman', 0, 12, 'PERSON'), ('the Roma...</td>\n",
       "      <td>187.840</td>\n",
       "      <td>['one', 'Society', 'Lex Friedman']</td>\n",
       "    </tr>\n",
       "    <tr>\n",
       "      <th>2</th>\n",
       "      <td>Romans said just War there's no just war</td>\n",
       "      <td>205.120</td>\n",
       "      <td>210.720</td>\n",
       "      <td>[('Romans', 0, 6, 'NORP')]</td>\n",
       "      <td>5.600</td>\n",
       "      <td>['Romans']</td>\n",
       "    </tr>\n",
       "    <tr>\n",
       "      <th>3</th>\n",
       "      <td>yeah chimpan Society is a Like A too many Disn...</td>\n",
       "      <td>213.200</td>\n",
       "      <td>605.600</td>\n",
       "      <td>[('yeah chimpan Society', 0, 20, 'ORG'), ('Dis...</td>\n",
       "      <td>392.400</td>\n",
       "      <td>['Israel', 'Gaza', 'Hamas']</td>\n",
       "    </tr>\n",
       "    <tr>\n",
       "      <th>4</th>\n",
       "      <td>gigantic Galactic War where trillions we are a...</td>\n",
       "      <td>602.519</td>\n",
       "      <td>707.680</td>\n",
       "      <td>[('Galactic War', 9, 21, 'EVENT'), ('one day',...</td>\n",
       "      <td>105.161</td>\n",
       "      <td>['Galactic War', 'one day', 'Galaxy']</td>\n",
       "    </tr>\n",
       "    <tr>\n",
       "      <th>5</th>\n",
       "      <td>British intelligence in London that's died you...</td>\n",
       "      <td>728.600</td>\n",
       "      <td>769.680</td>\n",
       "      <td>[('British', 0, 7, 'NORP'), ('London', 24, 30,...</td>\n",
       "      <td>41.080</td>\n",
       "      <td>['British', 'London', '20 years ago']</td>\n",
       "    </tr>\n",
       "    <tr>\n",
       "      <th>6</th>\n",
       "      <td>actually 30 years ago remember World War II no...</td>\n",
       "      <td>767.079</td>\n",
       "      <td>1368.039</td>\n",
       "      <td>[('30 years ago', 9, 21, 'DATE'), ('World War ...</td>\n",
       "      <td>600.960</td>\n",
       "      <td>['one', 'two', 'Ukrainian']</td>\n",
       "    </tr>\n",
       "    <tr>\n",
       "      <th>7</th>\n",
       "      <td>Gap in understanding of each other and you are...</td>\n",
       "      <td>1387.720</td>\n",
       "      <td>1497.919</td>\n",
       "      <td>[('Gap', 0, 3, 'ORG'), ('American', 11, 19, 'N...</td>\n",
       "      <td>110.199</td>\n",
       "      <td>['China', 'US', 'Beijing']</td>\n",
       "    </tr>\n",
       "    <tr>\n",
       "      <th>8</th>\n",
       "      <td>um in the Three Kingdoms War I believe</td>\n",
       "      <td>1507.120</td>\n",
       "      <td>1512.919</td>\n",
       "      <td>[('the Three Kingdoms War', 6, 28, 'EVENT')]</td>\n",
       "      <td>5.799</td>\n",
       "      <td>['the Three Kingdoms War']</td>\n",
       "    </tr>\n",
       "    <tr>\n",
       "      <th>9</th>\n",
       "      <td>they lost about 70% of their brutal internal W...</td>\n",
       "      <td>1509.640</td>\n",
       "      <td>1778.120</td>\n",
       "      <td>[('about 70%', 10, 19, 'PERCENT'), ('brutal in...</td>\n",
       "      <td>268.480</td>\n",
       "      <td>['China', 'one', 'US']</td>\n",
       "    </tr>\n",
       "    <tr>\n",
       "      <th>10</th>\n",
       "      <td>United States are similar NE neither principle...</td>\n",
       "      <td>1776.279</td>\n",
       "      <td>1854.279</td>\n",
       "      <td>[('United States', 0, 13, 'GPE'), ('NE', 26, 2...</td>\n",
       "      <td>78.000</td>\n",
       "      <td>['China', 'Hawaii', 'Taiwan']</td>\n",
       "    </tr>\n",
       "    <tr>\n",
       "      <th>11</th>\n",
       "      <td>they will incorporate Taiwan uh</td>\n",
       "      <td>1851.200</td>\n",
       "      <td>1857.919</td>\n",
       "      <td>[('Taiwan', 22, 28, 'GPE')]</td>\n",
       "      <td>6.719</td>\n",
       "      <td>['Taiwan']</td>\n",
       "    </tr>\n",
       "    <tr>\n",
       "      <th>12</th>\n",
       "      <td>their standpoint is 100% absolutely so in afte...</td>\n",
       "      <td>1860.480</td>\n",
       "      <td>2285.200</td>\n",
       "      <td>[('100%', 20, 24, 'PERCENT'), ('World War I th...</td>\n",
       "      <td>424.720</td>\n",
       "      <td>['first', 'Germany', 'World War']</td>\n",
       "    </tr>\n",
       "    <tr>\n",
       "      <th>13</th>\n",
       "      <td>of the big goals of XI is to understand</td>\n",
       "      <td>2283.240</td>\n",
       "      <td>2288.920</td>\n",
       "      <td>[('XI', 20, 22, 'CARDINAL')]</td>\n",
       "      <td>5.680</td>\n",
       "      <td>['XI']</td>\n",
       "    </tr>\n",
       "    <tr>\n",
       "      <th>14</th>\n",
       "      <td>three-word uh</td>\n",
       "      <td>2288.920</td>\n",
       "      <td>2295.119</td>\n",
       "      <td>[('three', 0, 5, 'CARDINAL')]</td>\n",
       "      <td>6.199</td>\n",
       "      <td>['three']</td>\n",
       "    </tr>\n",
       "    <tr>\n",
       "      <th>15</th>\n",
       "      <td>coming up with The Theory of Everything physic...</td>\n",
       "      <td>2310.599</td>\n",
       "      <td>2776.359</td>\n",
       "      <td>[('The Theory of Everything', 15, 39, 'WORK_OF...</td>\n",
       "      <td>465.760</td>\n",
       "      <td>['AI', 'first', 'MH']</td>\n",
       "    </tr>\n",
       "    <tr>\n",
       "      <th>16</th>\n",
       "      <td>archaic pre uniform was the first actual 5,000...</td>\n",
       "      <td>2776.359</td>\n",
       "      <td>2793.760</td>\n",
       "      <td>[('first', 28, 33, 'ORDINAL'), ('5,000 years',...</td>\n",
       "      <td>17.401</td>\n",
       "      <td>['first', '5,000 years', '1 millionth']</td>\n",
       "    </tr>\n",
       "    <tr>\n",
       "      <th>17</th>\n",
       "      <td>4 and half billion will heat heat the Earth up...</td>\n",
       "      <td>2812.920</td>\n",
       "      <td>3009.440</td>\n",
       "      <td>[('4 and half billion', 0, 18, 'MONEY'), ('Ear...</td>\n",
       "      <td>196.520</td>\n",
       "      <td>['Earth', 'one', '4 and half billion']</td>\n",
       "    </tr>\n",
       "    <tr>\n",
       "      <th>18</th>\n",
       "      <td>the Amazon asking where's</td>\n",
       "      <td>3006.720</td>\n",
       "      <td>3011.400</td>\n",
       "      <td>[('Amazon', 4, 10, 'ORG')]</td>\n",
       "      <td>4.680</td>\n",
       "      <td>['Amazon']</td>\n",
       "    </tr>\n",
       "    <tr>\n",
       "      <th>19</th>\n",
       "      <td>between VAR that wner hog talking about the ju...</td>\n",
       "      <td>3019.480</td>\n",
       "      <td>3038.359</td>\n",
       "      <td>[('VAR', 8, 11, 'ORG'), ('wner hog', 5, 13, 'O...</td>\n",
       "      <td>18.879</td>\n",
       "      <td>['wner hog', 'VAR']</td>\n",
       "    </tr>\n",
       "    <tr>\n",
       "      <th>20</th>\n",
       "      <td>yeah it's on YouTube it's it's</td>\n",
       "      <td>3041.119</td>\n",
       "      <td>3047.799</td>\n",
       "      <td>[('YouTube', 13, 20, 'PRODUCT')]</td>\n",
       "      <td>6.680</td>\n",
       "      <td>['YouTube']</td>\n",
       "    </tr>\n",
       "    <tr>\n",
       "      <th>21</th>\n",
       "      <td>bear documentary The Bear documentary like 70 ...</td>\n",
       "      <td>3051.440</td>\n",
       "      <td>3459.599</td>\n",
       "      <td>[('Bear', 21, 25, 'ORG'), ('70 miles', 5, 13, ...</td>\n",
       "      <td>408.159</td>\n",
       "      <td>['second', 'first', 'one']</td>\n",
       "    </tr>\n",
       "    <tr>\n",
       "      <th>22</th>\n",
       "      <td>player yeah and I think Diablo so you're with ...</td>\n",
       "      <td>3476.200</td>\n",
       "      <td>3573.160</td>\n",
       "      <td>[('Diablo', 24, 30, 'PERSON'), ('Paragon', 9, ...</td>\n",
       "      <td>96.960</td>\n",
       "      <td>['Paragon', 'SS', 'Diablo']</td>\n",
       "    </tr>\n",
       "    <tr>\n",
       "      <th>23</th>\n",
       "      <td>saw 100 level 100 Druid just run by I</td>\n",
       "      <td>3569.440</td>\n",
       "      <td>3575.680</td>\n",
       "      <td>[('100', 4, 7, 'CARDINAL'), ('Druid', 18, 23, ...</td>\n",
       "      <td>6.240</td>\n",
       "      <td>['100', 'Druid']</td>\n",
       "    </tr>\n",
       "    <tr>\n",
       "      <th>24</th>\n",
       "      <td>Elon Musk is fighting goldilock zone um and I ...</td>\n",
       "      <td>3580.200</td>\n",
       "      <td>3937.160</td>\n",
       "      <td>[('Elon Musk', 0, 9, 'PERSON'), ('goldilock zo...</td>\n",
       "      <td>356.960</td>\n",
       "      <td>['Brave New World', 'one', 'Elon Musk']</td>\n",
       "    </tr>\n",
       "    <tr>\n",
       "      <th>25</th>\n",
       "      <td>risks it's pretty good oh wait a minute health...</td>\n",
       "      <td>3959.160</td>\n",
       "      <td>4125.679</td>\n",
       "      <td>[('a minute', 31, 39, 'TIME'), ('healthcare pr...</td>\n",
       "      <td>166.519</td>\n",
       "      <td>['a minute', 'healthcare professional', 'first']</td>\n",
       "    </tr>\n",
       "    <tr>\n",
       "      <th>26</th>\n",
       "      <td>New World is fictional drug that used to</td>\n",
       "      <td>4123.880</td>\n",
       "      <td>4127.120</td>\n",
       "      <td>[('New World', 0, 9, 'ORG')]</td>\n",
       "      <td>3.240</td>\n",
       "      <td>['New World']</td>\n",
       "    </tr>\n",
       "    <tr>\n",
       "      <th>27</th>\n",
       "      <td>headon nailed know squashed uh dis in my C5 C6...</td>\n",
       "      <td>4139.520</td>\n",
       "      <td>4415.360</td>\n",
       "      <td>[('headon', 0, 6, 'PERSON'), ('C5 C6', 27, 32,...</td>\n",
       "      <td>275.840</td>\n",
       "      <td>['1/3', 'first', 'about a year']</td>\n",
       "    </tr>\n",
       "    <tr>\n",
       "      <th>28</th>\n",
       "      <td>blackout for several days in in in</td>\n",
       "      <td>4417.480</td>\n",
       "      <td>4421.120</td>\n",
       "      <td>[('several days', 13, 25, 'DATE')]</td>\n",
       "      <td>3.640</td>\n",
       "      <td>['several days']</td>\n",
       "    </tr>\n",
       "    <tr>\n",
       "      <th>29</th>\n",
       "      <td>Austin you've got a Hydro power plant you can ...</td>\n",
       "      <td>4419.360</td>\n",
       "      <td>4661.239</td>\n",
       "      <td>[('Austin', 0, 6, 'PERSON'), ('Hydro', 13, 18,...</td>\n",
       "      <td>241.879</td>\n",
       "      <td>['Google', 'AI', 'Austin']</td>\n",
       "    </tr>\n",
       "    <tr>\n",
       "      <th>30</th>\n",
       "      <td>I like I know Tesla gets a lot of 100 regulato...</td>\n",
       "      <td>4664.840</td>\n",
       "      <td>4681.080</td>\n",
       "      <td>[('Tesla', 14, 19, 'ORG'), ('100', 0, 3, 'CARD...</td>\n",
       "      <td>16.240</td>\n",
       "      <td>['Tesla', '100', 'Domestic Bally']</td>\n",
       "    </tr>\n",
       "    <tr>\n",
       "      <th>31</th>\n",
       "      <td>for SpaceX for Starship launch is Rocket and I...</td>\n",
       "      <td>4689.960</td>\n",
       "      <td>4827.880</td>\n",
       "      <td>[('SpaceX for Starship', 4, 23, 'WORK_OF_ART')...</td>\n",
       "      <td>137.920</td>\n",
       "      <td>['zero', 'Pacific', 'SpaceX for Starship']</td>\n",
       "    </tr>\n",
       "    <tr>\n",
       "      <th>32</th>\n",
       "      <td>whales like basically 0% um and if our that is...</td>\n",
       "      <td>4831.120</td>\n",
       "      <td>4900.239</td>\n",
       "      <td>[('0%', 22, 24, 'PERCENT'), ('Fate', 16, 20, '...</td>\n",
       "      <td>69.119</td>\n",
       "      <td>['one', '0%', 'Fate']</td>\n",
       "    </tr>\n",
       "    <tr>\n",
       "      <th>33</th>\n",
       "      <td>pros and cons of open sourcing AI to you</td>\n",
       "      <td>4995.800</td>\n",
       "      <td>5000.320</td>\n",
       "      <td>[('AI', 31, 33, 'PRODUCT')]</td>\n",
       "      <td>4.520</td>\n",
       "      <td>['AI']</td>\n",
       "    </tr>\n",
       "    <tr>\n",
       "      <th>34</th>\n",
       "      <td>8,000 A1 100s running at Peak um and Rock's go...</td>\n",
       "      <td>5027.760</td>\n",
       "      <td>5044.280</td>\n",
       "      <td>[('8,000', 0, 5, 'CARDINAL'), ('A1 100s', 6, 1...</td>\n",
       "      <td>16.520</td>\n",
       "      <td>['8,000', 'A1 100s', 'Peak']</td>\n",
       "    </tr>\n",
       "    <tr>\n",
       "      <th>35</th>\n",
       "      <td>zero to grock one by itself just Gro Gro Gro s...</td>\n",
       "      <td>5044.280</td>\n",
       "      <td>5382.280</td>\n",
       "      <td>[('zero', 0, 4, 'CARDINAL'), ('Gro Gro Gro', 1...</td>\n",
       "      <td>338.000</td>\n",
       "      <td>['Larry', 'AI', 'one']</td>\n",
       "    </tr>\n",
       "    <tr>\n",
       "      <th>36</th>\n",
       "      <td>xplatform uh should be AI recommended and matc...</td>\n",
       "      <td>5399.040</td>\n",
       "      <td>6005.480</td>\n",
       "      <td>[('xplatform', 0, 9, 'PERSON'), ('AI', 23, 25,...</td>\n",
       "      <td>606.440</td>\n",
       "      <td>['AI', 'one', '1500']</td>\n",
       "    </tr>\n",
       "    <tr>\n",
       "      <th>37</th>\n",
       "      <td>North Korea and everything they</td>\n",
       "      <td>6002.320</td>\n",
       "      <td>6008.719</td>\n",
       "      <td>[('North Korea', 0, 11, 'GPE')]</td>\n",
       "      <td>6.399</td>\n",
       "      <td>['North Korea']</td>\n",
       "    </tr>\n",
       "    <tr>\n",
       "      <th>38</th>\n",
       "      <td>circus</td>\n",
       "      <td>6089.080</td>\n",
       "      <td>6093.719</td>\n",
       "      <td>[('circus', 0, 6, 'ORG')]</td>\n",
       "      <td>4.639</td>\n",
       "      <td>['circus']</td>\n",
       "    </tr>\n",
       "    <tr>\n",
       "      <th>39</th>\n",
       "      <td>algorithm J Transformers uh American politics ...</td>\n",
       "      <td>6103.280</td>\n",
       "      <td>6243.199</td>\n",
       "      <td>[('J Transformers', 10, 24, 'PRODUCT'), ('Amer...</td>\n",
       "      <td>139.919</td>\n",
       "      <td>['Twitter', 'Truth', '100%']</td>\n",
       "    </tr>\n",
       "    <tr>\n",
       "      <th>40</th>\n",
       "      <td>think I think uh Donald Trump I think he owns ...</td>\n",
       "      <td>6246.800</td>\n",
       "      <td>6391.639</td>\n",
       "      <td>[('Donald Trump', 17, 29, 'PERSON'), ('Truth',...</td>\n",
       "      <td>144.839</td>\n",
       "      <td>['Wikipedia', 'Donald Trump', 'Truth']</td>\n",
       "    </tr>\n",
       "    <tr>\n",
       "      <th>41</th>\n",
       "      <td>well Wikipedia is very hierarchical uh</td>\n",
       "      <td>6393.800</td>\n",
       "      <td>6399.599</td>\n",
       "      <td>[('Wikipedia', 5, 14, 'ORG')]</td>\n",
       "      <td>5.799</td>\n",
       "      <td>['Wikipedia']</td>\n",
       "    </tr>\n",
       "    <tr>\n",
       "      <th>42</th>\n",
       "      <td>100% all the data is open source 100% so what ...</td>\n",
       "      <td>6417.920</td>\n",
       "      <td>6460.560</td>\n",
       "      <td>[('100%', 0, 4, 'PERCENT'), ('100%', 33, 37, '...</td>\n",
       "      <td>42.640</td>\n",
       "      <td>['100%', 'Elon Musk']</td>\n",
       "    </tr>\n",
       "    <tr>\n",
       "      <th>43</th>\n",
       "      <td>cool oh sure I mean uh what do Elon Musk been ...</td>\n",
       "      <td>6468.360</td>\n",
       "      <td>6487.639</td>\n",
       "      <td>[('Elon Musk', 31, 40, 'PERSON'), ('Elon', 5, ...</td>\n",
       "      <td>19.279</td>\n",
       "      <td>['Elon Musk', 'Elon', 'Musk']</td>\n",
       "    </tr>\n",
       "    <tr>\n",
       "      <th>44</th>\n",
       "      <td>first part uh I did actually have the trial in...</td>\n",
       "      <td>6504.239</td>\n",
       "      <td>6549.000</td>\n",
       "      <td>[('first', 0, 5, 'ORDINAL'), ('San Francisco',...</td>\n",
       "      <td>44.761</td>\n",
       "      <td>['SEC', 'San Francisco', 'first']</td>\n",
       "    </tr>\n",
       "    <tr>\n",
       "      <th>45</th>\n",
       "      <td>saying pay $20 million and and and admit told ...</td>\n",
       "      <td>6568.760</td>\n",
       "      <td>7567.719</td>\n",
       "      <td>[('$20 million', 11, 22, 'MONEY'), ('sec', 12,...</td>\n",
       "      <td>998.959</td>\n",
       "      <td>['SEC', 'one', 'Tesla']</td>\n",
       "    </tr>\n",
       "    <tr>\n",
       "      <th>46</th>\n",
       "      <td>know we only have 100 Watts um and an in 8</td>\n",
       "      <td>7591.280</td>\n",
       "      <td>7601.920</td>\n",
       "      <td>[('100', 18, 21, 'CARDINAL'), ('8', 13, 14, 'C...</td>\n",
       "      <td>10.640</td>\n",
       "      <td>['100', '8']</td>\n",
       "    </tr>\n",
       "    <tr>\n",
       "      <th>47</th>\n",
       "      <td>computer 144 trillion operations per second wh...</td>\n",
       "      <td>7598.320</td>\n",
       "      <td>7721.840</td>\n",
       "      <td>[('144 trillion', 9, 21, 'CARDINAL'), ('second...</td>\n",
       "      <td>123.520</td>\n",
       "      <td>['Tesla', '144 trillion', 'second']</td>\n",
       "    </tr>\n",
       "    <tr>\n",
       "      <th>48</th>\n",
       "      <td>to try to understand the world with 100</td>\n",
       "      <td>7723.679</td>\n",
       "      <td>7728.920</td>\n",
       "      <td>[('100', 36, 39, 'CARDINAL')]</td>\n",
       "      <td>5.241</td>\n",
       "      <td>['100']</td>\n",
       "    </tr>\n",
       "    <tr>\n",
       "      <th>49</th>\n",
       "      <td>Watts those with Hardware 4 and then Hardware ...</td>\n",
       "      <td>7727.719</td>\n",
       "      <td>7781.559</td>\n",
       "      <td>[('Watts', 0, 5, 'ORG'), ('Hardware 4', 11, 21...</td>\n",
       "      <td>53.840</td>\n",
       "      <td>['Watts', 'Hardware 4', 'Hardware']</td>\n",
       "    </tr>\n",
       "    <tr>\n",
       "      <th>50</th>\n",
       "      <td>shelf Motors like tens of thousands hundreds o...</td>\n",
       "      <td>7793.880</td>\n",
       "      <td>8186.840</td>\n",
       "      <td>[('Motors', 6, 12, 'ORG'), ('tens of thousands...</td>\n",
       "      <td>392.960</td>\n",
       "      <td>['Optimus', 'one', 'Walter isacson']</td>\n",
       "    </tr>\n",
       "    <tr>\n",
       "      <th>51</th>\n",
       "      <td>central philosophy of how Elon</td>\n",
       "      <td>8184.559</td>\n",
       "      <td>8189.800</td>\n",
       "      <td>[('Elon', 26, 30, 'PERSON')]</td>\n",
       "      <td>5.241</td>\n",
       "      <td>['Elon']</td>\n",
       "    </tr>\n",
       "  </tbody>\n",
       "</table>\n",
       "</div>"
      ],
      "text/plain": [
       "                                                 text     start       end  \\\n",
       "0               Elon Musk his fourth time on this The     2.040     8.520   \n",
       "1   Lex Friedman about the Roman Empire as one Rom...     5.440   193.280   \n",
       "2            Romans said just War there's no just war   205.120   210.720   \n",
       "3   yeah chimpan Society is a Like A too many Disn...   213.200   605.600   \n",
       "4   gigantic Galactic War where trillions we are a...   602.519   707.680   \n",
       "5   British intelligence in London that's died you...   728.600   769.680   \n",
       "6   actually 30 years ago remember World War II no...   767.079  1368.039   \n",
       "7   Gap in understanding of each other and you are...  1387.720  1497.919   \n",
       "8              um in the Three Kingdoms War I believe  1507.120  1512.919   \n",
       "9   they lost about 70% of their brutal internal W...  1509.640  1778.120   \n",
       "10  United States are similar NE neither principle...  1776.279  1854.279   \n",
       "11                    they will incorporate Taiwan uh  1851.200  1857.919   \n",
       "12  their standpoint is 100% absolutely so in afte...  1860.480  2285.200   \n",
       "13            of the big goals of XI is to understand  2283.240  2288.920   \n",
       "14                                      three-word uh  2288.920  2295.119   \n",
       "15  coming up with The Theory of Everything physic...  2310.599  2776.359   \n",
       "16  archaic pre uniform was the first actual 5,000...  2776.359  2793.760   \n",
       "17  4 and half billion will heat heat the Earth up...  2812.920  3009.440   \n",
       "18                          the Amazon asking where's  3006.720  3011.400   \n",
       "19  between VAR that wner hog talking about the ju...  3019.480  3038.359   \n",
       "20                     yeah it's on YouTube it's it's  3041.119  3047.799   \n",
       "21  bear documentary The Bear documentary like 70 ...  3051.440  3459.599   \n",
       "22  player yeah and I think Diablo so you're with ...  3476.200  3573.160   \n",
       "23              saw 100 level 100 Druid just run by I  3569.440  3575.680   \n",
       "24  Elon Musk is fighting goldilock zone um and I ...  3580.200  3937.160   \n",
       "25  risks it's pretty good oh wait a minute health...  3959.160  4125.679   \n",
       "26           New World is fictional drug that used to  4123.880  4127.120   \n",
       "27  headon nailed know squashed uh dis in my C5 C6...  4139.520  4415.360   \n",
       "28                 blackout for several days in in in  4417.480  4421.120   \n",
       "29  Austin you've got a Hydro power plant you can ...  4419.360  4661.239   \n",
       "30  I like I know Tesla gets a lot of 100 regulato...  4664.840  4681.080   \n",
       "31  for SpaceX for Starship launch is Rocket and I...  4689.960  4827.880   \n",
       "32  whales like basically 0% um and if our that is...  4831.120  4900.239   \n",
       "33           pros and cons of open sourcing AI to you  4995.800  5000.320   \n",
       "34  8,000 A1 100s running at Peak um and Rock's go...  5027.760  5044.280   \n",
       "35  zero to grock one by itself just Gro Gro Gro s...  5044.280  5382.280   \n",
       "36  xplatform uh should be AI recommended and matc...  5399.040  6005.480   \n",
       "37                    North Korea and everything they  6002.320  6008.719   \n",
       "38                                             circus  6089.080  6093.719   \n",
       "39  algorithm J Transformers uh American politics ...  6103.280  6243.199   \n",
       "40  think I think uh Donald Trump I think he owns ...  6246.800  6391.639   \n",
       "41             well Wikipedia is very hierarchical uh  6393.800  6399.599   \n",
       "42  100% all the data is open source 100% so what ...  6417.920  6460.560   \n",
       "43  cool oh sure I mean uh what do Elon Musk been ...  6468.360  6487.639   \n",
       "44  first part uh I did actually have the trial in...  6504.239  6549.000   \n",
       "45  saying pay $20 million and and and admit told ...  6568.760  7567.719   \n",
       "46         know we only have 100 Watts um and an in 8  7591.280  7601.920   \n",
       "47  computer 144 trillion operations per second wh...  7598.320  7721.840   \n",
       "48            to try to understand the world with 100  7723.679  7728.920   \n",
       "49  Watts those with Hardware 4 and then Hardware ...  7727.719  7781.559   \n",
       "50  shelf Motors like tens of thousands hundreds o...  7793.880  8186.840   \n",
       "51                     central philosophy of how Elon  8184.559  8189.800   \n",
       "\n",
       "                                             entities  duration  \\\n",
       "0   [('Elon Musk', 0, 9, 'PERSON'), ('fourth', 14,...     6.480   \n",
       "1   [('Lex Friedman', 0, 12, 'PERSON'), ('the Roma...   187.840   \n",
       "2                          [('Romans', 0, 6, 'NORP')]     5.600   \n",
       "3   [('yeah chimpan Society', 0, 20, 'ORG'), ('Dis...   392.400   \n",
       "4   [('Galactic War', 9, 21, 'EVENT'), ('one day',...   105.161   \n",
       "5   [('British', 0, 7, 'NORP'), ('London', 24, 30,...    41.080   \n",
       "6   [('30 years ago', 9, 21, 'DATE'), ('World War ...   600.960   \n",
       "7   [('Gap', 0, 3, 'ORG'), ('American', 11, 19, 'N...   110.199   \n",
       "8        [('the Three Kingdoms War', 6, 28, 'EVENT')]     5.799   \n",
       "9   [('about 70%', 10, 19, 'PERCENT'), ('brutal in...   268.480   \n",
       "10  [('United States', 0, 13, 'GPE'), ('NE', 26, 2...    78.000   \n",
       "11                        [('Taiwan', 22, 28, 'GPE')]     6.719   \n",
       "12  [('100%', 20, 24, 'PERCENT'), ('World War I th...   424.720   \n",
       "13                       [('XI', 20, 22, 'CARDINAL')]     5.680   \n",
       "14                      [('three', 0, 5, 'CARDINAL')]     6.199   \n",
       "15  [('The Theory of Everything', 15, 39, 'WORK_OF...   465.760   \n",
       "16  [('first', 28, 33, 'ORDINAL'), ('5,000 years',...    17.401   \n",
       "17  [('4 and half billion', 0, 18, 'MONEY'), ('Ear...   196.520   \n",
       "18                         [('Amazon', 4, 10, 'ORG')]     4.680   \n",
       "19  [('VAR', 8, 11, 'ORG'), ('wner hog', 5, 13, 'O...    18.879   \n",
       "20                   [('YouTube', 13, 20, 'PRODUCT')]     6.680   \n",
       "21  [('Bear', 21, 25, 'ORG'), ('70 miles', 5, 13, ...   408.159   \n",
       "22  [('Diablo', 24, 30, 'PERSON'), ('Paragon', 9, ...    96.960   \n",
       "23  [('100', 4, 7, 'CARDINAL'), ('Druid', 18, 23, ...     6.240   \n",
       "24  [('Elon Musk', 0, 9, 'PERSON'), ('goldilock zo...   356.960   \n",
       "25  [('a minute', 31, 39, 'TIME'), ('healthcare pr...   166.519   \n",
       "26                       [('New World', 0, 9, 'ORG')]     3.240   \n",
       "27  [('headon', 0, 6, 'PERSON'), ('C5 C6', 27, 32,...   275.840   \n",
       "28                 [('several days', 13, 25, 'DATE')]     3.640   \n",
       "29  [('Austin', 0, 6, 'PERSON'), ('Hydro', 13, 18,...   241.879   \n",
       "30  [('Tesla', 14, 19, 'ORG'), ('100', 0, 3, 'CARD...    16.240   \n",
       "31  [('SpaceX for Starship', 4, 23, 'WORK_OF_ART')...   137.920   \n",
       "32  [('0%', 22, 24, 'PERCENT'), ('Fate', 16, 20, '...    69.119   \n",
       "33                        [('AI', 31, 33, 'PRODUCT')]     4.520   \n",
       "34  [('8,000', 0, 5, 'CARDINAL'), ('A1 100s', 6, 1...    16.520   \n",
       "35  [('zero', 0, 4, 'CARDINAL'), ('Gro Gro Gro', 1...   338.000   \n",
       "36  [('xplatform', 0, 9, 'PERSON'), ('AI', 23, 25,...   606.440   \n",
       "37                    [('North Korea', 0, 11, 'GPE')]     6.399   \n",
       "38                          [('circus', 0, 6, 'ORG')]     4.639   \n",
       "39  [('J Transformers', 10, 24, 'PRODUCT'), ('Amer...   139.919   \n",
       "40  [('Donald Trump', 17, 29, 'PERSON'), ('Truth',...   144.839   \n",
       "41                      [('Wikipedia', 5, 14, 'ORG')]     5.799   \n",
       "42  [('100%', 0, 4, 'PERCENT'), ('100%', 33, 37, '...    42.640   \n",
       "43  [('Elon Musk', 31, 40, 'PERSON'), ('Elon', 5, ...    19.279   \n",
       "44  [('first', 0, 5, 'ORDINAL'), ('San Francisco',...    44.761   \n",
       "45  [('$20 million', 11, 22, 'MONEY'), ('sec', 12,...   998.959   \n",
       "46  [('100', 18, 21, 'CARDINAL'), ('8', 13, 14, 'C...    10.640   \n",
       "47  [('144 trillion', 9, 21, 'CARDINAL'), ('second...   123.520   \n",
       "48                      [('100', 36, 39, 'CARDINAL')]     5.241   \n",
       "49  [('Watts', 0, 5, 'ORG'), ('Hardware 4', 11, 21...    53.840   \n",
       "50  [('Motors', 6, 12, 'ORG'), ('tens of thousands...   392.960   \n",
       "51                       [('Elon', 26, 30, 'PERSON')]     5.241   \n",
       "\n",
       "                                  top_three_entities  \n",
       "0                            ['Elon Musk', 'fourth']  \n",
       "1                 ['one', 'Society', 'Lex Friedman']  \n",
       "2                                         ['Romans']  \n",
       "3                        ['Israel', 'Gaza', 'Hamas']  \n",
       "4              ['Galactic War', 'one day', 'Galaxy']  \n",
       "5              ['British', 'London', '20 years ago']  \n",
       "6                        ['one', 'two', 'Ukrainian']  \n",
       "7                         ['China', 'US', 'Beijing']  \n",
       "8                         ['the Three Kingdoms War']  \n",
       "9                             ['China', 'one', 'US']  \n",
       "10                     ['China', 'Hawaii', 'Taiwan']  \n",
       "11                                        ['Taiwan']  \n",
       "12                 ['first', 'Germany', 'World War']  \n",
       "13                                            ['XI']  \n",
       "14                                         ['three']  \n",
       "15                             ['AI', 'first', 'MH']  \n",
       "16           ['first', '5,000 years', '1 millionth']  \n",
       "17            ['Earth', 'one', '4 and half billion']  \n",
       "18                                        ['Amazon']  \n",
       "19                               ['wner hog', 'VAR']  \n",
       "20                                       ['YouTube']  \n",
       "21                        ['second', 'first', 'one']  \n",
       "22                       ['Paragon', 'SS', 'Diablo']  \n",
       "23                                  ['100', 'Druid']  \n",
       "24           ['Brave New World', 'one', 'Elon Musk']  \n",
       "25  ['a minute', 'healthcare professional', 'first']  \n",
       "26                                     ['New World']  \n",
       "27                  ['1/3', 'first', 'about a year']  \n",
       "28                                  ['several days']  \n",
       "29                        ['Google', 'AI', 'Austin']  \n",
       "30                ['Tesla', '100', 'Domestic Bally']  \n",
       "31        ['zero', 'Pacific', 'SpaceX for Starship']  \n",
       "32                             ['one', '0%', 'Fate']  \n",
       "33                                            ['AI']  \n",
       "34                      ['8,000', 'A1 100s', 'Peak']  \n",
       "35                            ['Larry', 'AI', 'one']  \n",
       "36                             ['AI', 'one', '1500']  \n",
       "37                                   ['North Korea']  \n",
       "38                                        ['circus']  \n",
       "39                      ['Twitter', 'Truth', '100%']  \n",
       "40            ['Wikipedia', 'Donald Trump', 'Truth']  \n",
       "41                                     ['Wikipedia']  \n",
       "42                             ['100%', 'Elon Musk']  \n",
       "43                     ['Elon Musk', 'Elon', 'Musk']  \n",
       "44                 ['SEC', 'San Francisco', 'first']  \n",
       "45                           ['SEC', 'one', 'Tesla']  \n",
       "46                                      ['100', '8']  \n",
       "47               ['Tesla', '144 trillion', 'second']  \n",
       "48                                           ['100']  \n",
       "49               ['Watts', 'Hardware 4', 'Hardware']  \n",
       "50              ['Optimus', 'one', 'Walter isacson']  \n",
       "51                                          ['Elon']  "
      ]
     },
     "execution_count": 1,
     "metadata": {},
     "output_type": "execute_result"
    }
   ],
   "source": [
    "FILENAME = \"JN3KPFbWCy8.csv\"\n",
    "\n",
    "import pandas as pd\n",
    "\n",
    "df = pd.read_csv(FILENAME)\n",
    "\n",
    "df"
   ]
  },
  {
   "cell_type": "code",
   "execution_count": 2,
   "metadata": {},
   "outputs": [],
   "source": [
    "# mac booshit\n",
    "# https://github.com/Zulko/moviepy/issues/1158\n",
    "\n",
    "import os\n",
    "os.environ[\"IMAGEIO_FFMPEG_EXE\"] = \"/opt/homebrew/bin/ffmpeg\""
   ]
  },
  {
   "cell_type": "code",
   "execution_count": 3,
   "metadata": {},
   "outputs": [],
   "source": [
    "from moviepy.editor import VideoFileClip\n",
    "\n",
    "# TODO create cover picture for video with save_frame\n",
    "# myclip.save_frame(\"frame.jpeg\", t='01:00:00') # frame at time t=1h\n",
    "\n",
    "INPUT_DIR = \"./input_data/\"\n",
    "VIDEO_FILE_PATH = INPUT_DIR + \"Elon Musk War AI Aliens Politics Physics Video Games and Humanity  Lex Fridman Podcast 400.mp4\"\n"
   ]
  },
  {
   "cell_type": "markdown",
   "metadata": {},
   "source": [
    "Video Processing"
   ]
  },
  {
   "cell_type": "code",
   "execution_count": 7,
   "metadata": {},
   "outputs": [
    {
     "name": "stderr",
     "output_type": "stream",
     "text": [
      "Generating Clips:   2%|▏         | 1/52 [00:00<00:15,  3.20it/s]"
     ]
    },
    {
     "name": "stdout",
     "output_type": "stream",
     "text": [
      "Moviepy - Building video ./output_data/output_['Elon Musk', 'fourth'].mp4.\n",
      "MoviePy - Writing audio in output_['Elon Musk', 'fourth']TEMP_MPY_wvf_snd.mp4\n"
     ]
    },
    {
     "name": "stderr",
     "output_type": "stream",
     "text": [
      "Generating Clips:   2%|▏         | 1/52 [00:00<00:25,  2.03it/s]"
     ]
    },
    {
     "name": "stdout",
     "output_type": "stream",
     "text": [
      "MoviePy - Done.\n",
      "Moviepy - Writing video ./output_data/output_['Elon Musk', 'fourth'].mp4\n",
      "\n"
     ]
    },
    {
     "name": "stderr",
     "output_type": "stream",
     "text": [
      "Generating Clips:   4%|▍         | 2/52 [00:02<01:02,  1.24s/it]"
     ]
    },
    {
     "name": "stdout",
     "output_type": "stream",
     "text": [
      "Moviepy - Done !\n",
      "Moviepy - video ready ./output_data/output_['Elon Musk', 'fourth'].mp4\n"
     ]
    },
    {
     "name": "stderr",
     "output_type": "stream",
     "text": [
      "Generating Clips:   4%|▍         | 2/52 [00:02<01:02,  1.24s/it]"
     ]
    },
    {
     "name": "stdout",
     "output_type": "stream",
     "text": [
      "Moviepy - Building video ./output_data/output_['one', 'Society', 'Lex Friedman'].mp4.\n",
      "MoviePy - Writing audio in output_['one', 'Society', 'Lex Friedman']TEMP_MPY_wvf_snd.mp4\n"
     ]
    },
    {
     "name": "stderr",
     "output_type": "stream",
     "text": [
      "Generating Clips:   4%|▍         | 2/52 [00:07<01:02,  1.24s/it]"
     ]
    },
    {
     "name": "stdout",
     "output_type": "stream",
     "text": [
      "MoviePy - Done.\n",
      "Moviepy - Writing video ./output_data/output_['one', 'Society', 'Lex Friedman'].mp4\n",
      "\n"
     ]
    },
    {
     "name": "stderr",
     "output_type": "stream",
     "text": [
      "Generating Clips:   6%|▌         | 3/52 [00:24<08:07,  9.94s/it]"
     ]
    },
    {
     "name": "stdout",
     "output_type": "stream",
     "text": [
      "Moviepy - Done !\n",
      "Moviepy - video ready ./output_data/output_['one', 'Society', 'Lex Friedman'].mp4\n"
     ]
    },
    {
     "name": "stderr",
     "output_type": "stream",
     "text": [
      "Generating Clips:   6%|▌         | 3/52 [00:24<08:07,  9.94s/it]"
     ]
    },
    {
     "name": "stdout",
     "output_type": "stream",
     "text": [
      "Moviepy - Building video ./output_data/output_['Romans'].mp4.\n",
      "MoviePy - Writing audio in output_['Romans']TEMP_MPY_wvf_snd.mp4\n"
     ]
    },
    {
     "name": "stderr",
     "output_type": "stream",
     "text": [
      "Generating Clips:   6%|▌         | 3/52 [00:25<08:07,  9.94s/it]"
     ]
    },
    {
     "name": "stdout",
     "output_type": "stream",
     "text": [
      "MoviePy - Done.\n",
      "Moviepy - Writing video ./output_data/output_['Romans'].mp4\n",
      "\n"
     ]
    },
    {
     "name": "stderr",
     "output_type": "stream",
     "text": [
      "Generating Clips:   8%|▊         | 4/52 [00:27<05:44,  7.18s/it]"
     ]
    },
    {
     "name": "stdout",
     "output_type": "stream",
     "text": [
      "Moviepy - Done !\n",
      "Moviepy - video ready ./output_data/output_['Romans'].mp4\n"
     ]
    },
    {
     "name": "stderr",
     "output_type": "stream",
     "text": [
      "Generating Clips:   8%|▊         | 4/52 [00:27<05:44,  7.18s/it]"
     ]
    },
    {
     "name": "stdout",
     "output_type": "stream",
     "text": [
      "Moviepy - Building video ./output_data/output_['Israel', 'Gaza', 'Hamas'].mp4.\n",
      "MoviePy - Writing audio in output_['Israel', 'Gaza', 'Hamas']TEMP_MPY_wvf_snd.mp4\n"
     ]
    },
    {
     "name": "stderr",
     "output_type": "stream",
     "text": [
      "Generating Clips:   8%|▊         | 4/52 [00:37<05:44,  7.18s/it]"
     ]
    },
    {
     "name": "stdout",
     "output_type": "stream",
     "text": [
      "MoviePy - Done.\n",
      "Moviepy - Writing video ./output_data/output_['Israel', 'Gaza', 'Hamas'].mp4\n",
      "\n"
     ]
    },
    {
     "name": "stderr",
     "output_type": "stream",
     "text": [
      "Generating Clips:  10%|▉         | 5/52 [01:11<15:41, 20.02s/it]"
     ]
    },
    {
     "name": "stdout",
     "output_type": "stream",
     "text": [
      "Moviepy - Done !\n",
      "Moviepy - video ready ./output_data/output_['Israel', 'Gaza', 'Hamas'].mp4\n"
     ]
    },
    {
     "name": "stderr",
     "output_type": "stream",
     "text": [
      "Generating Clips:  10%|▉         | 5/52 [01:11<15:41, 20.02s/it]"
     ]
    },
    {
     "name": "stdout",
     "output_type": "stream",
     "text": [
      "Moviepy - Building video ./output_data/output_['Galactic War', 'one day', 'Galaxy'].mp4.\n",
      "MoviePy - Writing audio in output_['Galactic War', 'one day', 'Galaxy']TEMP_MPY_wvf_snd.mp4\n"
     ]
    },
    {
     "name": "stderr",
     "output_type": "stream",
     "text": [
      "Generating Clips:  10%|▉         | 5/52 [01:14<15:41, 20.02s/it]"
     ]
    },
    {
     "name": "stdout",
     "output_type": "stream",
     "text": [
      "MoviePy - Done.\n",
      "Moviepy - Writing video ./output_data/output_['Galactic War', 'one day', 'Galaxy'].mp4\n",
      "\n"
     ]
    },
    {
     "name": "stderr",
     "output_type": "stream",
     "text": [
      "Generating Clips:  12%|█▏        | 6/52 [01:24<13:37, 17.78s/it]"
     ]
    },
    {
     "name": "stdout",
     "output_type": "stream",
     "text": [
      "Moviepy - Done !\n",
      "Moviepy - video ready ./output_data/output_['Galactic War', 'one day', 'Galaxy'].mp4\n"
     ]
    },
    {
     "name": "stderr",
     "output_type": "stream",
     "text": [
      "Generating Clips:  12%|█▏        | 6/52 [01:24<13:37, 17.78s/it]"
     ]
    },
    {
     "name": "stdout",
     "output_type": "stream",
     "text": [
      "Moviepy - Building video ./output_data/output_['British', 'London', '20 years ago'].mp4.\n",
      "MoviePy - Writing audio in output_['British', 'London', '20 years ago']TEMP_MPY_wvf_snd.mp4\n"
     ]
    },
    {
     "name": "stderr",
     "output_type": "stream",
     "text": [
      "Generating Clips:  12%|█▏        | 6/52 [01:26<13:37, 17.78s/it]"
     ]
    },
    {
     "name": "stdout",
     "output_type": "stream",
     "text": [
      "MoviePy - Done.\n",
      "Moviepy - Writing video ./output_data/output_['British', 'London', '20 years ago'].mp4\n",
      "\n"
     ]
    },
    {
     "name": "stderr",
     "output_type": "stream",
     "text": [
      "Generating Clips:  13%|█▎        | 7/52 [01:30<10:33, 14.08s/it]"
     ]
    },
    {
     "name": "stdout",
     "output_type": "stream",
     "text": [
      "Moviepy - Done !\n",
      "Moviepy - video ready ./output_data/output_['British', 'London', '20 years ago'].mp4\n"
     ]
    },
    {
     "name": "stderr",
     "output_type": "stream",
     "text": [
      "Generating Clips:  13%|█▎        | 7/52 [01:31<10:33, 14.08s/it]"
     ]
    },
    {
     "name": "stdout",
     "output_type": "stream",
     "text": [
      "Moviepy - Building video ./output_data/output_['one', 'two', 'Ukrainian'].mp4.\n",
      "MoviePy - Writing audio in output_['one', 'two', 'Ukrainian']TEMP_MPY_wvf_snd.mp4\n"
     ]
    },
    {
     "name": "stderr",
     "output_type": "stream",
     "text": [
      "Generating Clips:  13%|█▎        | 7/52 [01:45<10:33, 14.08s/it]"
     ]
    },
    {
     "name": "stdout",
     "output_type": "stream",
     "text": [
      "MoviePy - Done.\n",
      "Moviepy - Writing video ./output_data/output_['one', 'two', 'Ukrainian'].mp4\n",
      "\n"
     ]
    },
    {
     "name": "stderr",
     "output_type": "stream",
     "text": [
      "Generating Clips:  15%|█▌        | 8/52 [02:37<22:34, 30.78s/it]"
     ]
    },
    {
     "name": "stdout",
     "output_type": "stream",
     "text": [
      "Moviepy - Done !\n",
      "Moviepy - video ready ./output_data/output_['one', 'two', 'Ukrainian'].mp4\n"
     ]
    },
    {
     "name": "stderr",
     "output_type": "stream",
     "text": [
      "Generating Clips:  15%|█▌        | 8/52 [02:38<22:34, 30.78s/it]"
     ]
    },
    {
     "name": "stdout",
     "output_type": "stream",
     "text": [
      "Moviepy - Building video ./output_data/output_['China', 'US', 'Beijing'].mp4.\n",
      "MoviePy - Writing audio in output_['China', 'US', 'Beijing']TEMP_MPY_wvf_snd.mp4\n"
     ]
    },
    {
     "name": "stderr",
     "output_type": "stream",
     "text": [
      "Generating Clips:  15%|█▌        | 8/52 [02:41<22:34, 30.78s/it]"
     ]
    },
    {
     "name": "stdout",
     "output_type": "stream",
     "text": [
      "MoviePy - Done.\n",
      "Moviepy - Writing video ./output_data/output_['China', 'US', 'Beijing'].mp4\n",
      "\n"
     ]
    },
    {
     "name": "stderr",
     "output_type": "stream",
     "text": [
      "Generating Clips:  17%|█▋        | 9/52 [02:52<18:22, 25.64s/it]"
     ]
    },
    {
     "name": "stdout",
     "output_type": "stream",
     "text": [
      "Moviepy - Done !\n",
      "Moviepy - video ready ./output_data/output_['China', 'US', 'Beijing'].mp4\n"
     ]
    },
    {
     "name": "stderr",
     "output_type": "stream",
     "text": [
      "Generating Clips:  17%|█▋        | 9/52 [02:52<18:22, 25.64s/it]"
     ]
    },
    {
     "name": "stdout",
     "output_type": "stream",
     "text": [
      "Moviepy - Building video ./output_data/output_['the Three Kingdoms War'].mp4.\n",
      "MoviePy - Writing audio in output_['the Three Kingdoms War']TEMP_MPY_wvf_snd.mp4\n"
     ]
    },
    {
     "name": "stderr",
     "output_type": "stream",
     "text": [
      "Generating Clips:  17%|█▋        | 9/52 [02:52<18:22, 25.64s/it]"
     ]
    },
    {
     "name": "stdout",
     "output_type": "stream",
     "text": [
      "MoviePy - Done.\n",
      "Moviepy - Writing video ./output_data/output_['the Three Kingdoms War'].mp4\n",
      "\n"
     ]
    },
    {
     "name": "stderr",
     "output_type": "stream",
     "text": [
      "Generating Clips:  19%|█▉        | 10/52 [02:54<12:59, 18.56s/it]"
     ]
    },
    {
     "name": "stdout",
     "output_type": "stream",
     "text": [
      "Moviepy - Done !\n",
      "Moviepy - video ready ./output_data/output_['the Three Kingdoms War'].mp4\n"
     ]
    },
    {
     "name": "stderr",
     "output_type": "stream",
     "text": [
      "Generating Clips:  19%|█▉        | 10/52 [02:55<12:59, 18.56s/it]"
     ]
    },
    {
     "name": "stdout",
     "output_type": "stream",
     "text": [
      "Moviepy - Building video ./output_data/output_['China', 'one', 'US'].mp4.\n",
      "MoviePy - Writing audio in output_['China', 'one', 'US']TEMP_MPY_wvf_snd.mp4\n"
     ]
    },
    {
     "name": "stderr",
     "output_type": "stream",
     "text": [
      "Generating Clips:  19%|█▉        | 10/52 [03:01<12:59, 18.56s/it]"
     ]
    },
    {
     "name": "stdout",
     "output_type": "stream",
     "text": [
      "MoviePy - Done.\n",
      "Moviepy - Writing video ./output_data/output_['China', 'one', 'US'].mp4\n",
      "\n"
     ]
    },
    {
     "name": "stderr",
     "output_type": "stream",
     "text": [
      "Generating Clips:  21%|██        | 11/52 [03:25<15:12, 22.26s/it]"
     ]
    },
    {
     "name": "stdout",
     "output_type": "stream",
     "text": [
      "Moviepy - Done !\n",
      "Moviepy - video ready ./output_data/output_['China', 'one', 'US'].mp4\n"
     ]
    },
    {
     "name": "stderr",
     "output_type": "stream",
     "text": [
      "Generating Clips:  21%|██        | 11/52 [03:25<15:12, 22.26s/it]"
     ]
    },
    {
     "name": "stdout",
     "output_type": "stream",
     "text": [
      "Moviepy - Building video ./output_data/output_['China', 'Hawaii', 'Taiwan'].mp4.\n",
      "MoviePy - Writing audio in output_['China', 'Hawaii', 'Taiwan']TEMP_MPY_wvf_snd.mp4\n"
     ]
    },
    {
     "name": "stderr",
     "output_type": "stream",
     "text": [
      "Generating Clips:  21%|██        | 11/52 [03:27<15:12, 22.26s/it]"
     ]
    },
    {
     "name": "stdout",
     "output_type": "stream",
     "text": [
      "MoviePy - Done.\n",
      "Moviepy - Writing video ./output_data/output_['China', 'Hawaii', 'Taiwan'].mp4\n",
      "\n"
     ]
    },
    {
     "name": "stderr",
     "output_type": "stream",
     "text": [
      "Generating Clips:  23%|██▎       | 12/52 [03:35<12:24, 18.61s/it]"
     ]
    },
    {
     "name": "stdout",
     "output_type": "stream",
     "text": [
      "Moviepy - Done !\n",
      "Moviepy - video ready ./output_data/output_['China', 'Hawaii', 'Taiwan'].mp4\n"
     ]
    },
    {
     "name": "stderr",
     "output_type": "stream",
     "text": [
      "Generating Clips:  23%|██▎       | 12/52 [03:35<12:24, 18.61s/it]"
     ]
    },
    {
     "name": "stdout",
     "output_type": "stream",
     "text": [
      "Moviepy - Building video ./output_data/output_['Taiwan'].mp4.\n",
      "MoviePy - Writing audio in output_['Taiwan']TEMP_MPY_wvf_snd.mp4\n"
     ]
    },
    {
     "name": "stderr",
     "output_type": "stream",
     "text": [
      "Generating Clips:  23%|██▎       | 12/52 [03:36<12:24, 18.61s/it]"
     ]
    },
    {
     "name": "stdout",
     "output_type": "stream",
     "text": [
      "MoviePy - Done.\n",
      "Moviepy - Writing video ./output_data/output_['Taiwan'].mp4\n",
      "\n"
     ]
    },
    {
     "name": "stderr",
     "output_type": "stream",
     "text": [
      "Generating Clips:  25%|██▌       | 13/52 [03:38<08:57, 13.78s/it]"
     ]
    },
    {
     "name": "stdout",
     "output_type": "stream",
     "text": [
      "Moviepy - Done !\n",
      "Moviepy - video ready ./output_data/output_['Taiwan'].mp4\n"
     ]
    },
    {
     "name": "stderr",
     "output_type": "stream",
     "text": [
      "Generating Clips:  25%|██▌       | 13/52 [03:38<08:57, 13.78s/it]"
     ]
    },
    {
     "name": "stdout",
     "output_type": "stream",
     "text": [
      "Moviepy - Building video ./output_data/output_['first', 'Germany', 'World War'].mp4.\n",
      "MoviePy - Writing audio in output_['first', 'Germany', 'World War']TEMP_MPY_wvf_snd.mp4\n"
     ]
    },
    {
     "name": "stderr",
     "output_type": "stream",
     "text": [
      "Generating Clips:  25%|██▌       | 13/52 [03:49<08:57, 13.78s/it]"
     ]
    },
    {
     "name": "stdout",
     "output_type": "stream",
     "text": [
      "MoviePy - Done.\n",
      "Moviepy - Writing video ./output_data/output_['first', 'Germany', 'World War'].mp4\n",
      "\n"
     ]
    },
    {
     "name": "stderr",
     "output_type": "stream",
     "text": [
      "Generating Clips:  27%|██▋       | 14/52 [04:26<15:15, 24.10s/it]"
     ]
    },
    {
     "name": "stdout",
     "output_type": "stream",
     "text": [
      "Moviepy - Done !\n",
      "Moviepy - video ready ./output_data/output_['first', 'Germany', 'World War'].mp4\n"
     ]
    },
    {
     "name": "stderr",
     "output_type": "stream",
     "text": [
      "Generating Clips:  27%|██▋       | 14/52 [04:26<15:15, 24.10s/it]"
     ]
    },
    {
     "name": "stdout",
     "output_type": "stream",
     "text": [
      "Moviepy - Building video ./output_data/output_['XI'].mp4.\n",
      "MoviePy - Writing audio in output_['XI']TEMP_MPY_wvf_snd.mp4\n"
     ]
    },
    {
     "name": "stderr",
     "output_type": "stream",
     "text": [
      "Generating Clips:  27%|██▋       | 14/52 [04:26<15:15, 24.10s/it]"
     ]
    },
    {
     "name": "stdout",
     "output_type": "stream",
     "text": [
      "MoviePy - Done.\n",
      "Moviepy - Writing video ./output_data/output_['XI'].mp4\n",
      "\n"
     ]
    },
    {
     "name": "stderr",
     "output_type": "stream",
     "text": [
      "Generating Clips:  29%|██▉       | 15/52 [04:28<10:52, 17.64s/it]"
     ]
    },
    {
     "name": "stdout",
     "output_type": "stream",
     "text": [
      "Moviepy - Done !\n",
      "Moviepy - video ready ./output_data/output_['XI'].mp4\n"
     ]
    },
    {
     "name": "stderr",
     "output_type": "stream",
     "text": [
      "Generating Clips:  29%|██▉       | 15/52 [04:29<10:52, 17.64s/it]"
     ]
    },
    {
     "name": "stdout",
     "output_type": "stream",
     "text": [
      "Moviepy - Building video ./output_data/output_['three'].mp4.\n",
      "MoviePy - Writing audio in output_['three']TEMP_MPY_wvf_snd.mp4\n"
     ]
    },
    {
     "name": "stderr",
     "output_type": "stream",
     "text": [
      "Generating Clips:  29%|██▉       | 15/52 [04:29<10:52, 17.64s/it]"
     ]
    },
    {
     "name": "stdout",
     "output_type": "stream",
     "text": [
      "MoviePy - Done.\n",
      "Moviepy - Writing video ./output_data/output_['three'].mp4\n",
      "\n"
     ]
    },
    {
     "name": "stderr",
     "output_type": "stream",
     "text": [
      "Generating Clips:  31%|███       | 16/52 [04:31<07:53, 13.15s/it]"
     ]
    },
    {
     "name": "stdout",
     "output_type": "stream",
     "text": [
      "Moviepy - Done !\n",
      "Moviepy - video ready ./output_data/output_['three'].mp4\n"
     ]
    },
    {
     "name": "stderr",
     "output_type": "stream",
     "text": [
      "Generating Clips:  31%|███       | 16/52 [04:32<07:53, 13.15s/it]"
     ]
    },
    {
     "name": "stdout",
     "output_type": "stream",
     "text": [
      "Moviepy - Building video ./output_data/output_['AI', 'first', 'MH'].mp4.\n",
      "MoviePy - Writing audio in output_['AI', 'first', 'MH']TEMP_MPY_wvf_snd.mp4\n"
     ]
    },
    {
     "name": "stderr",
     "output_type": "stream",
     "text": [
      "Generating Clips:  31%|███       | 16/52 [04:44<07:53, 13.15s/it]"
     ]
    },
    {
     "name": "stdout",
     "output_type": "stream",
     "text": [
      "MoviePy - Done.\n",
      "Moviepy - Writing video ./output_data/output_['AI', 'first', 'MH'].mp4\n",
      "\n"
     ]
    },
    {
     "name": "stderr",
     "output_type": "stream",
     "text": [
      "Generating Clips:  33%|███▎      | 17/52 [05:25<14:44, 25.26s/it]"
     ]
    },
    {
     "name": "stdout",
     "output_type": "stream",
     "text": [
      "Moviepy - Done !\n",
      "Moviepy - video ready ./output_data/output_['AI', 'first', 'MH'].mp4\n"
     ]
    },
    {
     "name": "stderr",
     "output_type": "stream",
     "text": [
      "Generating Clips:  33%|███▎      | 17/52 [05:25<14:44, 25.26s/it]"
     ]
    },
    {
     "name": "stdout",
     "output_type": "stream",
     "text": [
      "Moviepy - Building video ./output_data/output_['first', '5,000 years', '1 millionth'].mp4.\n",
      "MoviePy - Writing audio in output_['first', '5,000 years', '1 millionth']TEMP_MPY_wvf_snd.mp4\n"
     ]
    },
    {
     "name": "stderr",
     "output_type": "stream",
     "text": [
      "Generating Clips:  33%|███▎      | 17/52 [05:25<14:44, 25.26s/it]"
     ]
    },
    {
     "name": "stdout",
     "output_type": "stream",
     "text": [
      "MoviePy - Done.\n",
      "Moviepy - Writing video ./output_data/output_['first', '5,000 years', '1 millionth'].mp4\n",
      "\n"
     ]
    },
    {
     "name": "stderr",
     "output_type": "stream",
     "text": [
      "Generating Clips:  35%|███▍      | 18/52 [05:28<10:38, 18.78s/it]"
     ]
    },
    {
     "name": "stdout",
     "output_type": "stream",
     "text": [
      "Moviepy - Done !\n",
      "Moviepy - video ready ./output_data/output_['first', '5,000 years', '1 millionth'].mp4\n"
     ]
    },
    {
     "name": "stderr",
     "output_type": "stream",
     "text": [
      "Generating Clips:  35%|███▍      | 18/52 [05:29<10:38, 18.78s/it]"
     ]
    },
    {
     "name": "stdout",
     "output_type": "stream",
     "text": [
      "Moviepy - Building video ./output_data/output_['Earth', 'one', '4 and half billion'].mp4.\n",
      "MoviePy - Writing audio in output_['Earth', 'one', '4 and half billion']TEMP_MPY_wvf_snd.mp4\n"
     ]
    },
    {
     "name": "stderr",
     "output_type": "stream",
     "text": [
      "Generating Clips:  35%|███▍      | 18/52 [05:33<10:38, 18.78s/it]"
     ]
    },
    {
     "name": "stdout",
     "output_type": "stream",
     "text": [
      "MoviePy - Done.\n",
      "Moviepy - Writing video ./output_data/output_['Earth', 'one', '4 and half billion'].mp4\n",
      "\n"
     ]
    },
    {
     "name": "stderr",
     "output_type": "stream",
     "text": [
      "Generating Clips:  37%|███▋      | 19/52 [05:51<10:57, 19.94s/it]"
     ]
    },
    {
     "name": "stdout",
     "output_type": "stream",
     "text": [
      "Moviepy - Done !\n",
      "Moviepy - video ready ./output_data/output_['Earth', 'one', '4 and half billion'].mp4\n"
     ]
    },
    {
     "name": "stderr",
     "output_type": "stream",
     "text": [
      "Generating Clips:  37%|███▋      | 19/52 [05:51<10:57, 19.94s/it]"
     ]
    },
    {
     "name": "stdout",
     "output_type": "stream",
     "text": [
      "Moviepy - Building video ./output_data/output_['Amazon'].mp4.\n",
      "MoviePy - Writing audio in output_['Amazon']TEMP_MPY_wvf_snd.mp4\n"
     ]
    },
    {
     "name": "stderr",
     "output_type": "stream",
     "text": [
      "Generating Clips:  37%|███▋      | 19/52 [05:52<10:57, 19.94s/it]"
     ]
    },
    {
     "name": "stdout",
     "output_type": "stream",
     "text": [
      "MoviePy - Done.\n",
      "Moviepy - Writing video ./output_data/output_['Amazon'].mp4\n",
      "\n"
     ]
    },
    {
     "name": "stderr",
     "output_type": "stream",
     "text": [
      "Generating Clips:  38%|███▊      | 20/52 [05:53<07:50, 14.69s/it]"
     ]
    },
    {
     "name": "stdout",
     "output_type": "stream",
     "text": [
      "Moviepy - Done !\n",
      "Moviepy - video ready ./output_data/output_['Amazon'].mp4\n"
     ]
    },
    {
     "name": "stderr",
     "output_type": "stream",
     "text": [
      "Generating Clips:  38%|███▊      | 20/52 [05:54<07:50, 14.69s/it]"
     ]
    },
    {
     "name": "stdout",
     "output_type": "stream",
     "text": [
      "Moviepy - Building video ./output_data/output_['wner hog', 'VAR'].mp4.\n",
      "MoviePy - Writing audio in output_['wner hog', 'VAR']TEMP_MPY_wvf_snd.mp4\n"
     ]
    },
    {
     "name": "stderr",
     "output_type": "stream",
     "text": [
      "Generating Clips:  38%|███▊      | 20/52 [05:54<07:50, 14.69s/it]"
     ]
    },
    {
     "name": "stdout",
     "output_type": "stream",
     "text": [
      "MoviePy - Done.\n",
      "Moviepy - Writing video ./output_data/output_['wner hog', 'VAR'].mp4\n",
      "\n"
     ]
    },
    {
     "name": "stderr",
     "output_type": "stream",
     "text": [
      "Generating Clips:  40%|████      | 21/52 [05:58<05:58, 11.55s/it]"
     ]
    },
    {
     "name": "stdout",
     "output_type": "stream",
     "text": [
      "Moviepy - Done !\n",
      "Moviepy - video ready ./output_data/output_['wner hog', 'VAR'].mp4\n"
     ]
    },
    {
     "name": "stderr",
     "output_type": "stream",
     "text": [
      "Generating Clips:  40%|████      | 21/52 [05:58<05:58, 11.55s/it]"
     ]
    },
    {
     "name": "stdout",
     "output_type": "stream",
     "text": [
      "Moviepy - Building video ./output_data/output_['YouTube'].mp4.\n",
      "MoviePy - Writing audio in output_['YouTube']TEMP_MPY_wvf_snd.mp4\n"
     ]
    },
    {
     "name": "stderr",
     "output_type": "stream",
     "text": [
      "Generating Clips:  40%|████      | 21/52 [05:58<05:58, 11.55s/it]"
     ]
    },
    {
     "name": "stdout",
     "output_type": "stream",
     "text": [
      "MoviePy - Done.\n",
      "Moviepy - Writing video ./output_data/output_['YouTube'].mp4\n",
      "\n"
     ]
    },
    {
     "name": "stderr",
     "output_type": "stream",
     "text": [
      "Generating Clips:  42%|████▏     | 22/52 [06:00<04:26,  8.90s/it]"
     ]
    },
    {
     "name": "stdout",
     "output_type": "stream",
     "text": [
      "Moviepy - Done !\n",
      "Moviepy - video ready ./output_data/output_['YouTube'].mp4\n"
     ]
    },
    {
     "name": "stderr",
     "output_type": "stream",
     "text": [
      "Generating Clips:  42%|████▏     | 22/52 [06:01<04:26,  8.90s/it]"
     ]
    },
    {
     "name": "stdout",
     "output_type": "stream",
     "text": [
      "Moviepy - Building video ./output_data/output_['second', 'first', 'one'].mp4.\n",
      "MoviePy - Writing audio in output_['second', 'first', 'one']TEMP_MPY_wvf_snd.mp4\n"
     ]
    },
    {
     "name": "stderr",
     "output_type": "stream",
     "text": [
      "Generating Clips:  42%|████▏     | 22/52 [06:11<04:26,  8.90s/it]"
     ]
    },
    {
     "name": "stdout",
     "output_type": "stream",
     "text": [
      "MoviePy - Done.\n",
      "Moviepy - Writing video ./output_data/output_['second', 'first', 'one'].mp4\n",
      "\n"
     ]
    },
    {
     "name": "stderr",
     "output_type": "stream",
     "text": [
      "Generating Clips:  44%|████▍     | 23/52 [06:47<09:47, 20.26s/it]"
     ]
    },
    {
     "name": "stdout",
     "output_type": "stream",
     "text": [
      "Moviepy - Done !\n",
      "Moviepy - video ready ./output_data/output_['second', 'first', 'one'].mp4\n"
     ]
    },
    {
     "name": "stderr",
     "output_type": "stream",
     "text": [
      "Generating Clips:  44%|████▍     | 23/52 [06:47<09:47, 20.26s/it]"
     ]
    },
    {
     "name": "stdout",
     "output_type": "stream",
     "text": [
      "Moviepy - Building video ./output_data/output_['Paragon', 'SS', 'Diablo'].mp4.\n",
      "MoviePy - Writing audio in output_['Paragon', 'SS', 'Diablo']TEMP_MPY_wvf_snd.mp4\n"
     ]
    },
    {
     "name": "stderr",
     "output_type": "stream",
     "text": [
      "Generating Clips:  44%|████▍     | 23/52 [06:50<09:47, 20.26s/it]"
     ]
    },
    {
     "name": "stdout",
     "output_type": "stream",
     "text": [
      "MoviePy - Done.\n",
      "Moviepy - Writing video ./output_data/output_['Paragon', 'SS', 'Diablo'].mp4\n",
      "\n"
     ]
    },
    {
     "name": "stderr",
     "output_type": "stream",
     "text": [
      "Generating Clips:  46%|████▌     | 24/52 [07:00<08:29, 18.20s/it]"
     ]
    },
    {
     "name": "stdout",
     "output_type": "stream",
     "text": [
      "Moviepy - Done !\n",
      "Moviepy - video ready ./output_data/output_['Paragon', 'SS', 'Diablo'].mp4\n"
     ]
    },
    {
     "name": "stderr",
     "output_type": "stream",
     "text": [
      "Generating Clips:  46%|████▌     | 24/52 [07:01<08:29, 18.20s/it]"
     ]
    },
    {
     "name": "stdout",
     "output_type": "stream",
     "text": [
      "Moviepy - Building video ./output_data/output_['100', 'Druid'].mp4.\n",
      "MoviePy - Writing audio in output_['100', 'Druid']TEMP_MPY_wvf_snd.mp4\n"
     ]
    },
    {
     "name": "stderr",
     "output_type": "stream",
     "text": [
      "Generating Clips:  46%|████▌     | 24/52 [07:01<08:29, 18.20s/it]"
     ]
    },
    {
     "name": "stdout",
     "output_type": "stream",
     "text": [
      "MoviePy - Done.\n",
      "Moviepy - Writing video ./output_data/output_['100', 'Druid'].mp4\n",
      "\n"
     ]
    },
    {
     "name": "stderr",
     "output_type": "stream",
     "text": [
      "Generating Clips:  48%|████▊     | 25/52 [07:03<06:05, 13.54s/it]"
     ]
    },
    {
     "name": "stdout",
     "output_type": "stream",
     "text": [
      "Moviepy - Done !\n",
      "Moviepy - video ready ./output_data/output_['100', 'Druid'].mp4\n"
     ]
    },
    {
     "name": "stderr",
     "output_type": "stream",
     "text": [
      "Generating Clips:  48%|████▊     | 25/52 [07:04<06:05, 13.54s/it]"
     ]
    },
    {
     "name": "stdout",
     "output_type": "stream",
     "text": [
      "Moviepy - Building video ./output_data/output_['Brave New World', 'one', 'Elon Musk'].mp4.\n",
      "MoviePy - Writing audio in output_['Brave New World', 'one', 'Elon Musk']TEMP_MPY_wvf_snd.mp4\n"
     ]
    },
    {
     "name": "stderr",
     "output_type": "stream",
     "text": [
      "Generating Clips:  48%|████▊     | 25/52 [07:13<06:05, 13.54s/it]"
     ]
    },
    {
     "name": "stdout",
     "output_type": "stream",
     "text": [
      "MoviePy - Done.\n",
      "Moviepy - Writing video ./output_data/output_['Brave New World', 'one', 'Elon Musk'].mp4\n",
      "\n"
     ]
    },
    {
     "name": "stderr",
     "output_type": "stream",
     "text": [
      "Generating Clips:  50%|█████     | 26/52 [07:44<09:24, 21.72s/it]"
     ]
    },
    {
     "name": "stdout",
     "output_type": "stream",
     "text": [
      "Moviepy - Done !\n",
      "Moviepy - video ready ./output_data/output_['Brave New World', 'one', 'Elon Musk'].mp4\n"
     ]
    },
    {
     "name": "stderr",
     "output_type": "stream",
     "text": [
      "Generating Clips:  50%|█████     | 26/52 [07:44<09:24, 21.72s/it]"
     ]
    },
    {
     "name": "stdout",
     "output_type": "stream",
     "text": [
      "Moviepy - Building video ./output_data/output_['a minute', 'healthcare professional', 'first'].mp4.\n",
      "MoviePy - Writing audio in output_['a minute', 'healthcare professional', 'first']TEMP_MPY_wvf_snd.mp4\n"
     ]
    },
    {
     "name": "stderr",
     "output_type": "stream",
     "text": [
      "Generating Clips:  50%|█████     | 26/52 [07:49<09:24, 21.72s/it]"
     ]
    },
    {
     "name": "stdout",
     "output_type": "stream",
     "text": [
      "MoviePy - Done.\n",
      "Moviepy - Writing video ./output_data/output_['a minute', 'healthcare professional', 'first'].mp4\n",
      "\n"
     ]
    },
    {
     "name": "stderr",
     "output_type": "stream",
     "text": [
      "Generating Clips:  52%|█████▏    | 27/52 [08:03<08:46, 21.05s/it]"
     ]
    },
    {
     "name": "stdout",
     "output_type": "stream",
     "text": [
      "Moviepy - Done !\n",
      "Moviepy - video ready ./output_data/output_['a minute', 'healthcare professional', 'first'].mp4\n"
     ]
    },
    {
     "name": "stderr",
     "output_type": "stream",
     "text": [
      "Generating Clips:  52%|█████▏    | 27/52 [08:04<08:46, 21.05s/it]"
     ]
    },
    {
     "name": "stdout",
     "output_type": "stream",
     "text": [
      "Moviepy - Building video ./output_data/output_['New World'].mp4.\n",
      "MoviePy - Writing audio in output_['New World']TEMP_MPY_wvf_snd.mp4\n"
     ]
    },
    {
     "name": "stderr",
     "output_type": "stream",
     "text": [
      "Generating Clips:  52%|█████▏    | 27/52 [08:04<08:46, 21.05s/it]"
     ]
    },
    {
     "name": "stdout",
     "output_type": "stream",
     "text": [
      "MoviePy - Done.\n",
      "Moviepy - Writing video ./output_data/output_['New World'].mp4\n",
      "\n"
     ]
    },
    {
     "name": "stderr",
     "output_type": "stream",
     "text": [
      "Generating Clips:  54%|█████▍    | 28/52 [08:06<06:08, 15.37s/it]"
     ]
    },
    {
     "name": "stdout",
     "output_type": "stream",
     "text": [
      "Moviepy - Done !\n",
      "Moviepy - video ready ./output_data/output_['New World'].mp4\n"
     ]
    },
    {
     "name": "stderr",
     "output_type": "stream",
     "text": [
      "Generating Clips:  54%|█████▍    | 28/52 [08:06<06:08, 15.37s/it]"
     ]
    },
    {
     "name": "stdout",
     "output_type": "stream",
     "text": [
      "Moviepy - Building video ./output_data/output_['1/3', 'first', 'about a year'].mp4.\n",
      "MoviePy - Writing audio in 3', 'first', 'about a year']TEMP_MPY_wvf_snd.mp4\n"
     ]
    },
    {
     "name": "stderr",
     "output_type": "stream",
     "text": [
      "Generating Clips:  54%|█████▍    | 28/52 [08:13<06:08, 15.37s/it]"
     ]
    },
    {
     "name": "stdout",
     "output_type": "stream",
     "text": [
      "MoviePy - Done.\n",
      "Moviepy - Writing video ./output_data/output_['1/3', 'first', 'about a year'].mp4\n",
      "\n"
     ]
    },
    {
     "name": "stderr",
     "output_type": "stream",
     "text": [
      "Generating Clips:  54%|█████▍    | 28/52 [08:13<07:03, 17.64s/it]\n"
     ]
    },
    {
     "ename": "OSError",
     "evalue": "[Errno 32] Broken pipe\n\nMoviePy error: FFMPEG encountered the following error while writing file ./output_data/output_['1/3', 'first', 'about a year'].mp4:\n\n b\"[out#0/mp4 @ 0x15170b1b0] Error opening output ./output_data/output_['1/3', 'first', 'about a year'].mp4: No such file or directory\\nError opening output file ./output_data/output_['1/3', 'first', 'about a year'].mp4.\\nError opening output files: No such file or directory\\n\"",
     "output_type": "error",
     "traceback": [
      "\u001b[0;31m---------------------------------------------------------------------------\u001b[0m",
      "\u001b[0;31mBrokenPipeError\u001b[0m                           Traceback (most recent call last)",
      "File \u001b[0;32m~/code/yt-video-editor/.venv/lib/python3.12/site-packages/moviepy/video/io/ffmpeg_writer.py:136\u001b[0m, in \u001b[0;36mFFMPEG_VideoWriter.write_frame\u001b[0;34m(self, img_array)\u001b[0m\n\u001b[1;32m    135\u001b[0m \u001b[38;5;28;01mif\u001b[39;00m PY3:\n\u001b[0;32m--> 136\u001b[0m    \u001b[38;5;28;43mself\u001b[39;49m\u001b[38;5;241;43m.\u001b[39;49m\u001b[43mproc\u001b[49m\u001b[38;5;241;43m.\u001b[39;49m\u001b[43mstdin\u001b[49m\u001b[38;5;241;43m.\u001b[39;49m\u001b[43mwrite\u001b[49m\u001b[43m(\u001b[49m\u001b[43mimg_array\u001b[49m\u001b[38;5;241;43m.\u001b[39;49m\u001b[43mtobytes\u001b[49m\u001b[43m(\u001b[49m\u001b[43m)\u001b[49m\u001b[43m)\u001b[49m\n\u001b[1;32m    137\u001b[0m \u001b[38;5;28;01melse\u001b[39;00m:\n",
      "\u001b[0;31mBrokenPipeError\u001b[0m: [Errno 32] Broken pipe",
      "\nDuring handling of the above exception, another exception occurred:\n",
      "\u001b[0;31mOSError\u001b[0m                                   Traceback (most recent call last)",
      "Cell \u001b[0;32mIn[7], line 28\u001b[0m\n\u001b[1;32m     23\u001b[0m     v6\u001b[38;5;241m.\u001b[39mwrite_videofile(output_path, codec\u001b[38;5;241m=\u001b[39m\u001b[38;5;124m\"\u001b[39m\u001b[38;5;124mlibx264\u001b[39m\u001b[38;5;124m\"\u001b[39m, audio_codec\u001b[38;5;241m=\u001b[39m\u001b[38;5;124m\"\u001b[39m\u001b[38;5;124maac\u001b[39m\u001b[38;5;124m\"\u001b[39m)\n\u001b[1;32m     26\u001b[0m tqdm\u001b[38;5;241m.\u001b[39mpandas(desc\u001b[38;5;241m=\u001b[39m\u001b[38;5;124m\"\u001b[39m\u001b[38;5;124mGenerating Clips\u001b[39m\u001b[38;5;124m\"\u001b[39m)\n\u001b[0;32m---> 28\u001b[0m \u001b[43mdf\u001b[49m\u001b[38;5;241;43m.\u001b[39;49m\u001b[43mprogress_apply\u001b[49m\u001b[43m(\u001b[49m\u001b[43mprocess_row\u001b[49m\u001b[43m,\u001b[49m\u001b[43m \u001b[49m\u001b[43maxis\u001b[49m\u001b[38;5;241;43m=\u001b[39;49m\u001b[38;5;241;43m1\u001b[39;49m\u001b[43m)\u001b[49m\n",
      "File \u001b[0;32m~/code/yt-video-editor/.venv/lib/python3.12/site-packages/tqdm/std.py:917\u001b[0m, in \u001b[0;36mtqdm.pandas.<locals>.inner_generator.<locals>.inner\u001b[0;34m(df, func, *args, **kwargs)\u001b[0m\n\u001b[1;32m    914\u001b[0m \u001b[38;5;66;03m# Apply the provided function (in **kwargs)\u001b[39;00m\n\u001b[1;32m    915\u001b[0m \u001b[38;5;66;03m# on the df using our wrapper (which provides bar updating)\u001b[39;00m\n\u001b[1;32m    916\u001b[0m \u001b[38;5;28;01mtry\u001b[39;00m:\n\u001b[0;32m--> 917\u001b[0m     \u001b[38;5;28;01mreturn\u001b[39;00m \u001b[38;5;28;43mgetattr\u001b[39;49m\u001b[43m(\u001b[49m\u001b[43mdf\u001b[49m\u001b[43m,\u001b[49m\u001b[43m \u001b[49m\u001b[43mdf_function\u001b[49m\u001b[43m)\u001b[49m\u001b[43m(\u001b[49m\u001b[43mwrapper\u001b[49m\u001b[43m,\u001b[49m\u001b[43m \u001b[49m\u001b[38;5;241;43m*\u001b[39;49m\u001b[38;5;241;43m*\u001b[39;49m\u001b[43mkwargs\u001b[49m\u001b[43m)\u001b[49m\n\u001b[1;32m    918\u001b[0m \u001b[38;5;28;01mfinally\u001b[39;00m:\n\u001b[1;32m    919\u001b[0m     t\u001b[38;5;241m.\u001b[39mclose()\n",
      "File \u001b[0;32m~/code/yt-video-editor/.venv/lib/python3.12/site-packages/pandas/core/frame.py:10361\u001b[0m, in \u001b[0;36mDataFrame.apply\u001b[0;34m(self, func, axis, raw, result_type, args, by_row, engine, engine_kwargs, **kwargs)\u001b[0m\n\u001b[1;32m  10347\u001b[0m \u001b[38;5;28;01mfrom\u001b[39;00m \u001b[38;5;21;01mpandas\u001b[39;00m\u001b[38;5;21;01m.\u001b[39;00m\u001b[38;5;21;01mcore\u001b[39;00m\u001b[38;5;21;01m.\u001b[39;00m\u001b[38;5;21;01mapply\u001b[39;00m \u001b[38;5;28;01mimport\u001b[39;00m frame_apply\n\u001b[1;32m  10349\u001b[0m op \u001b[38;5;241m=\u001b[39m frame_apply(\n\u001b[1;32m  10350\u001b[0m     \u001b[38;5;28mself\u001b[39m,\n\u001b[1;32m  10351\u001b[0m     func\u001b[38;5;241m=\u001b[39mfunc,\n\u001b[0;32m   (...)\u001b[0m\n\u001b[1;32m  10359\u001b[0m     kwargs\u001b[38;5;241m=\u001b[39mkwargs,\n\u001b[1;32m  10360\u001b[0m )\n\u001b[0;32m> 10361\u001b[0m \u001b[38;5;28;01mreturn\u001b[39;00m \u001b[43mop\u001b[49m\u001b[38;5;241;43m.\u001b[39;49m\u001b[43mapply\u001b[49m\u001b[43m(\u001b[49m\u001b[43m)\u001b[49m\u001b[38;5;241m.\u001b[39m__finalize__(\u001b[38;5;28mself\u001b[39m, method\u001b[38;5;241m=\u001b[39m\u001b[38;5;124m\"\u001b[39m\u001b[38;5;124mapply\u001b[39m\u001b[38;5;124m\"\u001b[39m)\n",
      "File \u001b[0;32m~/code/yt-video-editor/.venv/lib/python3.12/site-packages/pandas/core/apply.py:916\u001b[0m, in \u001b[0;36mFrameApply.apply\u001b[0;34m(self)\u001b[0m\n\u001b[1;32m    913\u001b[0m \u001b[38;5;28;01melif\u001b[39;00m \u001b[38;5;28mself\u001b[39m\u001b[38;5;241m.\u001b[39mraw:\n\u001b[1;32m    914\u001b[0m     \u001b[38;5;28;01mreturn\u001b[39;00m \u001b[38;5;28mself\u001b[39m\u001b[38;5;241m.\u001b[39mapply_raw(engine\u001b[38;5;241m=\u001b[39m\u001b[38;5;28mself\u001b[39m\u001b[38;5;241m.\u001b[39mengine, engine_kwargs\u001b[38;5;241m=\u001b[39m\u001b[38;5;28mself\u001b[39m\u001b[38;5;241m.\u001b[39mengine_kwargs)\n\u001b[0;32m--> 916\u001b[0m \u001b[38;5;28;01mreturn\u001b[39;00m \u001b[38;5;28;43mself\u001b[39;49m\u001b[38;5;241;43m.\u001b[39;49m\u001b[43mapply_standard\u001b[49m\u001b[43m(\u001b[49m\u001b[43m)\u001b[49m\n",
      "File \u001b[0;32m~/code/yt-video-editor/.venv/lib/python3.12/site-packages/pandas/core/apply.py:1063\u001b[0m, in \u001b[0;36mFrameApply.apply_standard\u001b[0;34m(self)\u001b[0m\n\u001b[1;32m   1061\u001b[0m \u001b[38;5;28;01mdef\u001b[39;00m \u001b[38;5;21mapply_standard\u001b[39m(\u001b[38;5;28mself\u001b[39m):\n\u001b[1;32m   1062\u001b[0m     \u001b[38;5;28;01mif\u001b[39;00m \u001b[38;5;28mself\u001b[39m\u001b[38;5;241m.\u001b[39mengine \u001b[38;5;241m==\u001b[39m \u001b[38;5;124m\"\u001b[39m\u001b[38;5;124mpython\u001b[39m\u001b[38;5;124m\"\u001b[39m:\n\u001b[0;32m-> 1063\u001b[0m         results, res_index \u001b[38;5;241m=\u001b[39m \u001b[38;5;28;43mself\u001b[39;49m\u001b[38;5;241;43m.\u001b[39;49m\u001b[43mapply_series_generator\u001b[49m\u001b[43m(\u001b[49m\u001b[43m)\u001b[49m\n\u001b[1;32m   1064\u001b[0m     \u001b[38;5;28;01melse\u001b[39;00m:\n\u001b[1;32m   1065\u001b[0m         results, res_index \u001b[38;5;241m=\u001b[39m \u001b[38;5;28mself\u001b[39m\u001b[38;5;241m.\u001b[39mapply_series_numba()\n",
      "File \u001b[0;32m~/code/yt-video-editor/.venv/lib/python3.12/site-packages/pandas/core/apply.py:1081\u001b[0m, in \u001b[0;36mFrameApply.apply_series_generator\u001b[0;34m(self)\u001b[0m\n\u001b[1;32m   1078\u001b[0m \u001b[38;5;28;01mwith\u001b[39;00m option_context(\u001b[38;5;124m\"\u001b[39m\u001b[38;5;124mmode.chained_assignment\u001b[39m\u001b[38;5;124m\"\u001b[39m, \u001b[38;5;28;01mNone\u001b[39;00m):\n\u001b[1;32m   1079\u001b[0m     \u001b[38;5;28;01mfor\u001b[39;00m i, v \u001b[38;5;129;01min\u001b[39;00m \u001b[38;5;28menumerate\u001b[39m(series_gen):\n\u001b[1;32m   1080\u001b[0m         \u001b[38;5;66;03m# ignore SettingWithCopy here in case the user mutates\u001b[39;00m\n\u001b[0;32m-> 1081\u001b[0m         results[i] \u001b[38;5;241m=\u001b[39m \u001b[38;5;28;43mself\u001b[39;49m\u001b[38;5;241;43m.\u001b[39;49m\u001b[43mfunc\u001b[49m\u001b[43m(\u001b[49m\u001b[43mv\u001b[49m\u001b[43m,\u001b[49m\u001b[43m \u001b[49m\u001b[38;5;241;43m*\u001b[39;49m\u001b[38;5;28;43mself\u001b[39;49m\u001b[38;5;241;43m.\u001b[39;49m\u001b[43margs\u001b[49m\u001b[43m,\u001b[49m\u001b[43m \u001b[49m\u001b[38;5;241;43m*\u001b[39;49m\u001b[38;5;241;43m*\u001b[39;49m\u001b[38;5;28;43mself\u001b[39;49m\u001b[38;5;241;43m.\u001b[39;49m\u001b[43mkwargs\u001b[49m\u001b[43m)\u001b[49m\n\u001b[1;32m   1082\u001b[0m         \u001b[38;5;28;01mif\u001b[39;00m \u001b[38;5;28misinstance\u001b[39m(results[i], ABCSeries):\n\u001b[1;32m   1083\u001b[0m             \u001b[38;5;66;03m# If we have a view on v, we need to make a copy because\u001b[39;00m\n\u001b[1;32m   1084\u001b[0m             \u001b[38;5;66;03m#  series_generator will swap out the underlying data\u001b[39;00m\n\u001b[1;32m   1085\u001b[0m             results[i] \u001b[38;5;241m=\u001b[39m results[i]\u001b[38;5;241m.\u001b[39mcopy(deep\u001b[38;5;241m=\u001b[39m\u001b[38;5;28;01mFalse\u001b[39;00m)\n",
      "File \u001b[0;32m~/code/yt-video-editor/.venv/lib/python3.12/site-packages/tqdm/std.py:912\u001b[0m, in \u001b[0;36mtqdm.pandas.<locals>.inner_generator.<locals>.inner.<locals>.wrapper\u001b[0;34m(*args, **kwargs)\u001b[0m\n\u001b[1;32m    906\u001b[0m \u001b[38;5;28;01mdef\u001b[39;00m \u001b[38;5;21mwrapper\u001b[39m(\u001b[38;5;241m*\u001b[39margs, \u001b[38;5;241m*\u001b[39m\u001b[38;5;241m*\u001b[39mkwargs):\n\u001b[1;32m    907\u001b[0m     \u001b[38;5;66;03m# update tbar correctly\u001b[39;00m\n\u001b[1;32m    908\u001b[0m     \u001b[38;5;66;03m# it seems `pandas apply` calls `func` twice\u001b[39;00m\n\u001b[1;32m    909\u001b[0m     \u001b[38;5;66;03m# on the first column/row to decide whether it can\u001b[39;00m\n\u001b[1;32m    910\u001b[0m     \u001b[38;5;66;03m# take a fast or slow code path; so stop when t.total==t.n\u001b[39;00m\n\u001b[1;32m    911\u001b[0m     t\u001b[38;5;241m.\u001b[39mupdate(n\u001b[38;5;241m=\u001b[39m\u001b[38;5;241m1\u001b[39m \u001b[38;5;28;01mif\u001b[39;00m \u001b[38;5;129;01mnot\u001b[39;00m t\u001b[38;5;241m.\u001b[39mtotal \u001b[38;5;129;01mor\u001b[39;00m t\u001b[38;5;241m.\u001b[39mn \u001b[38;5;241m<\u001b[39m t\u001b[38;5;241m.\u001b[39mtotal \u001b[38;5;28;01melse\u001b[39;00m \u001b[38;5;241m0\u001b[39m)\n\u001b[0;32m--> 912\u001b[0m     \u001b[38;5;28;01mreturn\u001b[39;00m \u001b[43mfunc\u001b[49m\u001b[43m(\u001b[49m\u001b[38;5;241;43m*\u001b[39;49m\u001b[43margs\u001b[49m\u001b[43m,\u001b[49m\u001b[43m \u001b[49m\u001b[38;5;241;43m*\u001b[39;49m\u001b[38;5;241;43m*\u001b[39;49m\u001b[43mkwargs\u001b[49m\u001b[43m)\u001b[49m\n",
      "Cell \u001b[0;32mIn[7], line 23\u001b[0m, in \u001b[0;36mprocess_row\u001b[0;34m(row)\u001b[0m\n\u001b[1;32m     19\u001b[0m v6 \u001b[38;5;241m=\u001b[39m v5\u001b[38;5;241m.\u001b[39mfadeout(fade_duration)\n\u001b[1;32m     21\u001b[0m output_path \u001b[38;5;241m=\u001b[39m OUTPUT_DIR \u001b[38;5;241m+\u001b[39m \u001b[38;5;124m\"\u001b[39m\u001b[38;5;124moutput_\u001b[39m\u001b[38;5;124m\"\u001b[39m \u001b[38;5;241m+\u001b[39m label \u001b[38;5;241m+\u001b[39m \u001b[38;5;124m\"\u001b[39m\u001b[38;5;124m.mp4\u001b[39m\u001b[38;5;124m\"\u001b[39m\n\u001b[0;32m---> 23\u001b[0m \u001b[43mv6\u001b[49m\u001b[38;5;241;43m.\u001b[39;49m\u001b[43mwrite_videofile\u001b[49m\u001b[43m(\u001b[49m\u001b[43moutput_path\u001b[49m\u001b[43m,\u001b[49m\u001b[43m \u001b[49m\u001b[43mcodec\u001b[49m\u001b[38;5;241;43m=\u001b[39;49m\u001b[38;5;124;43m\"\u001b[39;49m\u001b[38;5;124;43mlibx264\u001b[39;49m\u001b[38;5;124;43m\"\u001b[39;49m\u001b[43m,\u001b[49m\u001b[43m \u001b[49m\u001b[43maudio_codec\u001b[49m\u001b[38;5;241;43m=\u001b[39;49m\u001b[38;5;124;43m\"\u001b[39;49m\u001b[38;5;124;43maac\u001b[39;49m\u001b[38;5;124;43m\"\u001b[39;49m\u001b[43m)\u001b[49m\n",
      "File \u001b[0;32m<decorator-gen-73>:2\u001b[0m, in \u001b[0;36mwrite_videofile\u001b[0;34m(self, filename, fps, codec, bitrate, audio, audio_fps, preset, audio_nbytes, audio_codec, audio_bitrate, audio_bufsize, temp_audiofile, rewrite_audio, remove_temp, write_logfile, verbose, threads, ffmpeg_params, logger)\u001b[0m\n",
      "File \u001b[0;32m~/code/yt-video-editor/.venv/lib/python3.12/site-packages/moviepy/decorators.py:54\u001b[0m, in \u001b[0;36mrequires_duration\u001b[0;34m(f, clip, *a, **k)\u001b[0m\n\u001b[1;32m     52\u001b[0m     \u001b[38;5;28;01mraise\u001b[39;00m \u001b[38;5;167;01mValueError\u001b[39;00m(\u001b[38;5;124m\"\u001b[39m\u001b[38;5;124mAttribute \u001b[39m\u001b[38;5;124m'\u001b[39m\u001b[38;5;124mduration\u001b[39m\u001b[38;5;124m'\u001b[39m\u001b[38;5;124m not set\u001b[39m\u001b[38;5;124m\"\u001b[39m)\n\u001b[1;32m     53\u001b[0m \u001b[38;5;28;01melse\u001b[39;00m:\n\u001b[0;32m---> 54\u001b[0m     \u001b[38;5;28;01mreturn\u001b[39;00m \u001b[43mf\u001b[49m\u001b[43m(\u001b[49m\u001b[43mclip\u001b[49m\u001b[43m,\u001b[49m\u001b[43m \u001b[49m\u001b[38;5;241;43m*\u001b[39;49m\u001b[43ma\u001b[49m\u001b[43m,\u001b[49m\u001b[43m \u001b[49m\u001b[38;5;241;43m*\u001b[39;49m\u001b[38;5;241;43m*\u001b[39;49m\u001b[43mk\u001b[49m\u001b[43m)\u001b[49m\n",
      "File \u001b[0;32m<decorator-gen-72>:2\u001b[0m, in \u001b[0;36mwrite_videofile\u001b[0;34m(self, filename, fps, codec, bitrate, audio, audio_fps, preset, audio_nbytes, audio_codec, audio_bitrate, audio_bufsize, temp_audiofile, rewrite_audio, remove_temp, write_logfile, verbose, threads, ffmpeg_params, logger)\u001b[0m\n",
      "File \u001b[0;32m~/code/yt-video-editor/.venv/lib/python3.12/site-packages/moviepy/decorators.py:135\u001b[0m, in \u001b[0;36muse_clip_fps_by_default\u001b[0;34m(f, clip, *a, **k)\u001b[0m\n\u001b[1;32m    130\u001b[0m new_a \u001b[38;5;241m=\u001b[39m [fun(arg) \u001b[38;5;28;01mif\u001b[39;00m (name\u001b[38;5;241m==\u001b[39m\u001b[38;5;124m'\u001b[39m\u001b[38;5;124mfps\u001b[39m\u001b[38;5;124m'\u001b[39m) \u001b[38;5;28;01melse\u001b[39;00m arg\n\u001b[1;32m    131\u001b[0m          \u001b[38;5;28;01mfor\u001b[39;00m (arg, name) \u001b[38;5;129;01min\u001b[39;00m \u001b[38;5;28mzip\u001b[39m(a, names)]\n\u001b[1;32m    132\u001b[0m new_kw \u001b[38;5;241m=\u001b[39m {k: fun(v) \u001b[38;5;28;01mif\u001b[39;00m k\u001b[38;5;241m==\u001b[39m\u001b[38;5;124m'\u001b[39m\u001b[38;5;124mfps\u001b[39m\u001b[38;5;124m'\u001b[39m \u001b[38;5;28;01melse\u001b[39;00m v\n\u001b[1;32m    133\u001b[0m          \u001b[38;5;28;01mfor\u001b[39;00m (k,v) \u001b[38;5;129;01min\u001b[39;00m k\u001b[38;5;241m.\u001b[39mitems()}\n\u001b[0;32m--> 135\u001b[0m \u001b[38;5;28;01mreturn\u001b[39;00m \u001b[43mf\u001b[49m\u001b[43m(\u001b[49m\u001b[43mclip\u001b[49m\u001b[43m,\u001b[49m\u001b[43m \u001b[49m\u001b[38;5;241;43m*\u001b[39;49m\u001b[43mnew_a\u001b[49m\u001b[43m,\u001b[49m\u001b[43m \u001b[49m\u001b[38;5;241;43m*\u001b[39;49m\u001b[38;5;241;43m*\u001b[39;49m\u001b[43mnew_kw\u001b[49m\u001b[43m)\u001b[49m\n",
      "File \u001b[0;32m<decorator-gen-71>:2\u001b[0m, in \u001b[0;36mwrite_videofile\u001b[0;34m(self, filename, fps, codec, bitrate, audio, audio_fps, preset, audio_nbytes, audio_codec, audio_bitrate, audio_bufsize, temp_audiofile, rewrite_audio, remove_temp, write_logfile, verbose, threads, ffmpeg_params, logger)\u001b[0m\n",
      "File \u001b[0;32m~/code/yt-video-editor/.venv/lib/python3.12/site-packages/moviepy/decorators.py:22\u001b[0m, in \u001b[0;36mconvert_masks_to_RGB\u001b[0;34m(f, clip, *a, **k)\u001b[0m\n\u001b[1;32m     20\u001b[0m \u001b[38;5;28;01mif\u001b[39;00m clip\u001b[38;5;241m.\u001b[39mismask:\n\u001b[1;32m     21\u001b[0m     clip \u001b[38;5;241m=\u001b[39m clip\u001b[38;5;241m.\u001b[39mto_RGB()\n\u001b[0;32m---> 22\u001b[0m \u001b[38;5;28;01mreturn\u001b[39;00m \u001b[43mf\u001b[49m\u001b[43m(\u001b[49m\u001b[43mclip\u001b[49m\u001b[43m,\u001b[49m\u001b[43m \u001b[49m\u001b[38;5;241;43m*\u001b[39;49m\u001b[43ma\u001b[49m\u001b[43m,\u001b[49m\u001b[43m \u001b[49m\u001b[38;5;241;43m*\u001b[39;49m\u001b[38;5;241;43m*\u001b[39;49m\u001b[43mk\u001b[49m\u001b[43m)\u001b[49m\n",
      "File \u001b[0;32m~/code/yt-video-editor/.venv/lib/python3.12/site-packages/moviepy/video/VideoClip.py:300\u001b[0m, in \u001b[0;36mVideoClip.write_videofile\u001b[0;34m(self, filename, fps, codec, bitrate, audio, audio_fps, preset, audio_nbytes, audio_codec, audio_bitrate, audio_bufsize, temp_audiofile, rewrite_audio, remove_temp, write_logfile, verbose, threads, ffmpeg_params, logger)\u001b[0m\n\u001b[1;32m    292\u001b[0m \u001b[38;5;28;01mif\u001b[39;00m make_audio:\n\u001b[1;32m    293\u001b[0m     \u001b[38;5;28mself\u001b[39m\u001b[38;5;241m.\u001b[39maudio\u001b[38;5;241m.\u001b[39mwrite_audiofile(audiofile, audio_fps,\n\u001b[1;32m    294\u001b[0m                                audio_nbytes, audio_bufsize,\n\u001b[1;32m    295\u001b[0m                                audio_codec, bitrate\u001b[38;5;241m=\u001b[39maudio_bitrate,\n\u001b[1;32m    296\u001b[0m                                write_logfile\u001b[38;5;241m=\u001b[39mwrite_logfile,\n\u001b[1;32m    297\u001b[0m                                verbose\u001b[38;5;241m=\u001b[39mverbose,\n\u001b[1;32m    298\u001b[0m                                logger\u001b[38;5;241m=\u001b[39mlogger)\n\u001b[0;32m--> 300\u001b[0m \u001b[43mffmpeg_write_video\u001b[49m\u001b[43m(\u001b[49m\u001b[38;5;28;43mself\u001b[39;49m\u001b[43m,\u001b[49m\u001b[43m \u001b[49m\u001b[43mfilename\u001b[49m\u001b[43m,\u001b[49m\u001b[43m \u001b[49m\u001b[43mfps\u001b[49m\u001b[43m,\u001b[49m\u001b[43m \u001b[49m\u001b[43mcodec\u001b[49m\u001b[43m,\u001b[49m\n\u001b[1;32m    301\u001b[0m \u001b[43m                   \u001b[49m\u001b[43mbitrate\u001b[49m\u001b[38;5;241;43m=\u001b[39;49m\u001b[43mbitrate\u001b[49m\u001b[43m,\u001b[49m\n\u001b[1;32m    302\u001b[0m \u001b[43m                   \u001b[49m\u001b[43mpreset\u001b[49m\u001b[38;5;241;43m=\u001b[39;49m\u001b[43mpreset\u001b[49m\u001b[43m,\u001b[49m\n\u001b[1;32m    303\u001b[0m \u001b[43m                   \u001b[49m\u001b[43mwrite_logfile\u001b[49m\u001b[38;5;241;43m=\u001b[39;49m\u001b[43mwrite_logfile\u001b[49m\u001b[43m,\u001b[49m\n\u001b[1;32m    304\u001b[0m \u001b[43m                   \u001b[49m\u001b[43maudiofile\u001b[49m\u001b[38;5;241;43m=\u001b[39;49m\u001b[43maudiofile\u001b[49m\u001b[43m,\u001b[49m\n\u001b[1;32m    305\u001b[0m \u001b[43m                   \u001b[49m\u001b[43mverbose\u001b[49m\u001b[38;5;241;43m=\u001b[39;49m\u001b[43mverbose\u001b[49m\u001b[43m,\u001b[49m\u001b[43m \u001b[49m\u001b[43mthreads\u001b[49m\u001b[38;5;241;43m=\u001b[39;49m\u001b[43mthreads\u001b[49m\u001b[43m,\u001b[49m\n\u001b[1;32m    306\u001b[0m \u001b[43m                   \u001b[49m\u001b[43mffmpeg_params\u001b[49m\u001b[38;5;241;43m=\u001b[39;49m\u001b[43mffmpeg_params\u001b[49m\u001b[43m,\u001b[49m\n\u001b[1;32m    307\u001b[0m \u001b[43m                   \u001b[49m\u001b[43mlogger\u001b[49m\u001b[38;5;241;43m=\u001b[39;49m\u001b[43mlogger\u001b[49m\u001b[43m)\u001b[49m\n\u001b[1;32m    309\u001b[0m \u001b[38;5;28;01mif\u001b[39;00m remove_temp \u001b[38;5;129;01mand\u001b[39;00m make_audio:\n\u001b[1;32m    310\u001b[0m     \u001b[38;5;28;01mif\u001b[39;00m os\u001b[38;5;241m.\u001b[39mpath\u001b[38;5;241m.\u001b[39mexists(audiofile):\n",
      "File \u001b[0;32m~/code/yt-video-editor/.venv/lib/python3.12/site-packages/moviepy/video/io/ffmpeg_writer.py:228\u001b[0m, in \u001b[0;36mffmpeg_write_video\u001b[0;34m(clip, filename, fps, codec, bitrate, preset, withmask, write_logfile, audiofile, verbose, threads, ffmpeg_params, logger)\u001b[0m\n\u001b[1;32m    225\u001b[0m                 mask \u001b[38;5;241m=\u001b[39m mask\u001b[38;5;241m.\u001b[39mastype(\u001b[38;5;124m\"\u001b[39m\u001b[38;5;124muint8\u001b[39m\u001b[38;5;124m\"\u001b[39m)\n\u001b[1;32m    226\u001b[0m             frame \u001b[38;5;241m=\u001b[39m np\u001b[38;5;241m.\u001b[39mdstack([frame,mask])\n\u001b[0;32m--> 228\u001b[0m         \u001b[43mwriter\u001b[49m\u001b[38;5;241;43m.\u001b[39;49m\u001b[43mwrite_frame\u001b[49m\u001b[43m(\u001b[49m\u001b[43mframe\u001b[49m\u001b[43m)\u001b[49m\n\u001b[1;32m    230\u001b[0m \u001b[38;5;28;01mif\u001b[39;00m write_logfile:\n\u001b[1;32m    231\u001b[0m     logfile\u001b[38;5;241m.\u001b[39mclose()\n",
      "File \u001b[0;32m~/code/yt-video-editor/.venv/lib/python3.12/site-packages/moviepy/video/io/ffmpeg_writer.py:180\u001b[0m, in \u001b[0;36mFFMPEG_VideoWriter.write_frame\u001b[0;34m(self, img_array)\u001b[0m\n\u001b[1;32m    174\u001b[0m \u001b[38;5;28;01melif\u001b[39;00m \u001b[38;5;124mb\u001b[39m\u001b[38;5;124m\"\u001b[39m\u001b[38;5;124mInvalid encoder type\u001b[39m\u001b[38;5;124m\"\u001b[39m \u001b[38;5;129;01min\u001b[39;00m ffmpeg_error:\n\u001b[1;32m    176\u001b[0m     error \u001b[38;5;241m=\u001b[39m error \u001b[38;5;241m+\u001b[39m (\u001b[38;5;124m\"\u001b[39m\u001b[38;5;130;01m\\n\u001b[39;00m\u001b[38;5;130;01m\\n\u001b[39;00m\u001b[38;5;124mThe video export failed because the codec \u001b[39m\u001b[38;5;124m\"\u001b[39m\n\u001b[1;32m    177\u001b[0m       \u001b[38;5;124m\"\u001b[39m\u001b[38;5;124mor file extension you provided is not a video\u001b[39m\u001b[38;5;124m\"\u001b[39m)\n\u001b[0;32m--> 180\u001b[0m \u001b[38;5;28;01mraise\u001b[39;00m \u001b[38;5;167;01mIOError\u001b[39;00m(error)\n",
      "\u001b[0;31mOSError\u001b[0m: [Errno 32] Broken pipe\n\nMoviePy error: FFMPEG encountered the following error while writing file ./output_data/output_['1/3', 'first', 'about a year'].mp4:\n\n b\"[out#0/mp4 @ 0x15170b1b0] Error opening output ./output_data/output_['1/3', 'first', 'about a year'].mp4: No such file or directory\\nError opening output file ./output_data/output_['1/3', 'first', 'about a year'].mp4.\\nError opening output files: No such file or directory\\n\""
     ]
    }
   ],
   "source": [
    "from tqdm import tqdm\n",
    "FADE_DURATION = 3\n",
    "OUTPUT_DIR = \"./output_data/\"\n",
    "\n",
    "def process_row(row):\n",
    "    start = row['start']\n",
    "    end = row['end']\n",
    "\n",
    "    # label video with top three entities from embeddings\n",
    "    label = row['top_three_entities']\n",
    "    v = VideoFileClip(VIDEO_FILE_PATH)\n",
    "    v2 = v.subclip(start,end)\n",
    "\n",
    "    fade_duration = 3  # Duration of the fade-out effect in seconds\n",
    "    v3 = v2.fadein(fade_duration) \n",
    "\n",
    "    v4 = v3.audio_fadein(fade_duration)\n",
    "    v5 = v4.audio_fadeout(fade_duration)\n",
    "    v6 = v5.fadeout(fade_duration)\n",
    "\n",
    "    output_path = OUTPUT_DIR + \"output_\" + label + \".mp4\"\n",
    "\n",
    "    v6.write_videofile(output_path, codec=\"libx264\", audio_codec=\"aac\")\n",
    "\n",
    "\n",
    "tqdm.pandas(desc=\"Generating Clips\")\n",
    "\n",
    "df.progress_apply(process_row, axis=1)\n"
   ]
  },
  {
   "cell_type": "markdown",
   "metadata": {},
   "source": []
  }
 ],
 "metadata": {
  "kernelspec": {
   "display_name": "Python 3",
   "language": "python",
   "name": "python3"
  },
  "language_info": {
   "codemirror_mode": {
    "name": "ipython",
    "version": 3
   },
   "file_extension": ".py",
   "mimetype": "text/x-python",
   "name": "python",
   "nbconvert_exporter": "python",
   "pygments_lexer": "ipython3",
   "version": "3.12.2"
  }
 },
 "nbformat": 4,
 "nbformat_minor": 2
}
